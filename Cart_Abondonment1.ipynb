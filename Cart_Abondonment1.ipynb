{
  "cells": [
    {
      "cell_type": "markdown",
      "metadata": {
        "id": "w-FP92nRCaob"
      },
      "source": [
        "# **STUDY ON CART ABANDONMENT**\n",
        "\n",
        "**INTRODUCTION**\n",
        "\n",
        "Shopping cart abandonment refers to the phenomenon where customers add items to an online shopping cart, but then leave the site without completing the purchase. This is a common issue faced by e-commerce businesses, as it can result in a significant loss of potential revenue. Studies have shown that the average shopping cart abandonment rate is around 69%, which means that nearly 7 out of 10 customers do not complete their purchases.\n",
        "\n",
        "**ABOUT DATASET**\n",
        "\n",
        "Dataset taken here from kaggle consists of **4284 rows and 13 columns**.\n",
        "\n",
        "Attributes containing in the dataset-\n",
        "\n",
        "**ID**: The session id of the customer.\n",
        "\n",
        "**Is_Product_Details_viewed**: Whether the customer is viewing the product details or not.\n",
        "\n",
        "**Session_Activity_Count**: How many times a customer is going to the different pages.\n",
        "\n",
        "**No_Items_Added_InCart**: Number of items in cart.\n",
        "\n",
        "**No_Items_Removed_FromCart**: Number of items removed from the cart.\n",
        "\n",
        "**No_Cart_Viewed**: How many times the customer is going to the cart page.\n",
        "\n",
        "**No_Checkout_Confirmed**: How many times the checkout has been confirmed successfully by the customer.\n",
        "\n",
        "**No_Checkout_Initiated**: How many times the checkout(successful as well as unsuccess) is being done by the user.\n",
        "\n",
        "**No_Cart_Items_Viewed**: How many times a user is viewing the product from cart.\n",
        "\n",
        "**No_Customer_Login**: Number of times the customer had did log in.\n",
        "\n",
        "**No_Page_Viewed**: Number of pages viewed by the customer.\n",
        "\n",
        "**Customer_Segment_Type**: The customer falls under which category,i.e, 0 for Target Customer, 1 for Loyal Customer, and 2 for Untargeted customer.\n",
        "\n",
        "**Cart_Abandoned**: Whether the customer is doing cart abandonment or not. This is the target variable that we need to predict."
      ]
    },
    {
      "cell_type": "markdown",
      "metadata": {
        "id": "vCF4nTrGJL-D"
      },
      "source": [
        "**IMPORTING LIBRARIES**"
      ]
    },
    {
      "cell_type": "code",
      "execution_count": 21,
      "metadata": {
        "id": "0Xn8b1HfB5MT"
      },
      "outputs": [],
      "source": [
        "import numpy as np\n",
        "import pandas as pd\n",
        "import seaborn as sns\n",
        "from imblearn.over_sampling import SMOTE\n",
        "from sklearn.model_selection import train_test_split\n",
        "from sklearn.preprocessing import StandardScaler\n",
        "from sklearn.ensemble import RandomForestClassifier\n",
        "from sklearn.metrics import confusion_matrix,accuracy_score,cohen_kappa_score\n",
        "from sklearn.preprocessing import MinMaxScaler\n",
        "from sklearn.feature_selection import RFE\n",
        "from sklearn.linear_model import LogisticRegression\n",
        "import matplotlib.pyplot as plt\n",
        "import pickle"
      ]
    },
    {
      "cell_type": "markdown",
      "metadata": {
        "id": "Y64mO6X_JfN4"
      },
      "source": [
        "**UNDERSTANDING THE DATA**"
      ]
    },
    {
      "cell_type": "code",
      "execution_count": 22,
      "metadata": {
        "colab": {
          "base_uri": "https://localhost:8080/",
          "height": 270
        },
        "id": "8ykVYD8OJlZS",
        "outputId": "cff23da7-5c57-4540-edbd-166d453c5aef"
      },
      "outputs": [
        {
          "output_type": "execute_result",
          "data": {
            "text/plain": [
              "             ID Is_Product_Details_viewed  Session_Activity_Count  \\\n",
              "0  Session_ID_0                       Yes                       4   \n",
              "1  Session_ID_1                        No                      38   \n",
              "2  Session_ID_2                        No                       8   \n",
              "3  Session_ID_3                        No                       6   \n",
              "4  Session_ID_4                       Yes                      31   \n",
              "\n",
              "   No_Items_Added_InCart  No_Items_Removed_FromCart  No_Cart_Viewed  \\\n",
              "0                    1.0                          0             0.0   \n",
              "1                    0.0                          0             2.0   \n",
              "2                    5.0                          0             0.0   \n",
              "3                    0.0                          0             2.0   \n",
              "4                   14.0                         12             1.0   \n",
              "\n",
              "   No_Checkout_Confirmed  No_Checkout_Initiated   No_Cart_Items_Viewed  \\\n",
              "0                      0                       0                     1   \n",
              "1                      0                       0                     2   \n",
              "2                      1                       1                     1   \n",
              "3                      0                       0                     4   \n",
              "4                      0                       0                     4   \n",
              "\n",
              "   No_Customer_Login  No_Page_Viewed  Customer_Segment_Type  Cart_Abandoned  \n",
              "0                  0               0                      0               1  \n",
              "1                  0               2                      0               1  \n",
              "2                  0               0                      1               0  \n",
              "3                  0               0                      0               1  \n",
              "4                  0               0                      2               1  "
            ],
            "text/html": [
              "\n",
              "\n",
              "  <div id=\"df-76c8530b-1f37-4a85-98d0-057de2430ce7\">\n",
              "    <div class=\"colab-df-container\">\n",
              "      <div>\n",
              "<style scoped>\n",
              "    .dataframe tbody tr th:only-of-type {\n",
              "        vertical-align: middle;\n",
              "    }\n",
              "\n",
              "    .dataframe tbody tr th {\n",
              "        vertical-align: top;\n",
              "    }\n",
              "\n",
              "    .dataframe thead th {\n",
              "        text-align: right;\n",
              "    }\n",
              "</style>\n",
              "<table border=\"1\" class=\"dataframe\">\n",
              "  <thead>\n",
              "    <tr style=\"text-align: right;\">\n",
              "      <th></th>\n",
              "      <th>ID</th>\n",
              "      <th>Is_Product_Details_viewed</th>\n",
              "      <th>Session_Activity_Count</th>\n",
              "      <th>No_Items_Added_InCart</th>\n",
              "      <th>No_Items_Removed_FromCart</th>\n",
              "      <th>No_Cart_Viewed</th>\n",
              "      <th>No_Checkout_Confirmed</th>\n",
              "      <th>No_Checkout_Initiated</th>\n",
              "      <th>No_Cart_Items_Viewed</th>\n",
              "      <th>No_Customer_Login</th>\n",
              "      <th>No_Page_Viewed</th>\n",
              "      <th>Customer_Segment_Type</th>\n",
              "      <th>Cart_Abandoned</th>\n",
              "    </tr>\n",
              "  </thead>\n",
              "  <tbody>\n",
              "    <tr>\n",
              "      <th>0</th>\n",
              "      <td>Session_ID_0</td>\n",
              "      <td>Yes</td>\n",
              "      <td>4</td>\n",
              "      <td>1.0</td>\n",
              "      <td>0</td>\n",
              "      <td>0.0</td>\n",
              "      <td>0</td>\n",
              "      <td>0</td>\n",
              "      <td>1</td>\n",
              "      <td>0</td>\n",
              "      <td>0</td>\n",
              "      <td>0</td>\n",
              "      <td>1</td>\n",
              "    </tr>\n",
              "    <tr>\n",
              "      <th>1</th>\n",
              "      <td>Session_ID_1</td>\n",
              "      <td>No</td>\n",
              "      <td>38</td>\n",
              "      <td>0.0</td>\n",
              "      <td>0</td>\n",
              "      <td>2.0</td>\n",
              "      <td>0</td>\n",
              "      <td>0</td>\n",
              "      <td>2</td>\n",
              "      <td>0</td>\n",
              "      <td>2</td>\n",
              "      <td>0</td>\n",
              "      <td>1</td>\n",
              "    </tr>\n",
              "    <tr>\n",
              "      <th>2</th>\n",
              "      <td>Session_ID_2</td>\n",
              "      <td>No</td>\n",
              "      <td>8</td>\n",
              "      <td>5.0</td>\n",
              "      <td>0</td>\n",
              "      <td>0.0</td>\n",
              "      <td>1</td>\n",
              "      <td>1</td>\n",
              "      <td>1</td>\n",
              "      <td>0</td>\n",
              "      <td>0</td>\n",
              "      <td>1</td>\n",
              "      <td>0</td>\n",
              "    </tr>\n",
              "    <tr>\n",
              "      <th>3</th>\n",
              "      <td>Session_ID_3</td>\n",
              "      <td>No</td>\n",
              "      <td>6</td>\n",
              "      <td>0.0</td>\n",
              "      <td>0</td>\n",
              "      <td>2.0</td>\n",
              "      <td>0</td>\n",
              "      <td>0</td>\n",
              "      <td>4</td>\n",
              "      <td>0</td>\n",
              "      <td>0</td>\n",
              "      <td>0</td>\n",
              "      <td>1</td>\n",
              "    </tr>\n",
              "    <tr>\n",
              "      <th>4</th>\n",
              "      <td>Session_ID_4</td>\n",
              "      <td>Yes</td>\n",
              "      <td>31</td>\n",
              "      <td>14.0</td>\n",
              "      <td>12</td>\n",
              "      <td>1.0</td>\n",
              "      <td>0</td>\n",
              "      <td>0</td>\n",
              "      <td>4</td>\n",
              "      <td>0</td>\n",
              "      <td>0</td>\n",
              "      <td>2</td>\n",
              "      <td>1</td>\n",
              "    </tr>\n",
              "  </tbody>\n",
              "</table>\n",
              "</div>\n",
              "      <button class=\"colab-df-convert\" onclick=\"convertToInteractive('df-76c8530b-1f37-4a85-98d0-057de2430ce7')\"\n",
              "              title=\"Convert this dataframe to an interactive table.\"\n",
              "              style=\"display:none;\">\n",
              "\n",
              "  <svg xmlns=\"http://www.w3.org/2000/svg\" height=\"24px\"viewBox=\"0 0 24 24\"\n",
              "       width=\"24px\">\n",
              "    <path d=\"M0 0h24v24H0V0z\" fill=\"none\"/>\n",
              "    <path d=\"M18.56 5.44l.94 2.06.94-2.06 2.06-.94-2.06-.94-.94-2.06-.94 2.06-2.06.94zm-11 1L8.5 8.5l.94-2.06 2.06-.94-2.06-.94L8.5 2.5l-.94 2.06-2.06.94zm10 10l.94 2.06.94-2.06 2.06-.94-2.06-.94-.94-2.06-.94 2.06-2.06.94z\"/><path d=\"M17.41 7.96l-1.37-1.37c-.4-.4-.92-.59-1.43-.59-.52 0-1.04.2-1.43.59L10.3 9.45l-7.72 7.72c-.78.78-.78 2.05 0 2.83L4 21.41c.39.39.9.59 1.41.59.51 0 1.02-.2 1.41-.59l7.78-7.78 2.81-2.81c.8-.78.8-2.07 0-2.86zM5.41 20L4 18.59l7.72-7.72 1.47 1.35L5.41 20z\"/>\n",
              "  </svg>\n",
              "      </button>\n",
              "\n",
              "\n",
              "\n",
              "    <div id=\"df-3ecb0994-aadc-4fcc-abc8-157df5dac305\">\n",
              "      <button class=\"colab-df-quickchart\" onclick=\"quickchart('df-3ecb0994-aadc-4fcc-abc8-157df5dac305')\"\n",
              "              title=\"Suggest charts.\"\n",
              "              style=\"display:none;\">\n",
              "\n",
              "<svg xmlns=\"http://www.w3.org/2000/svg\" height=\"24px\"viewBox=\"0 0 24 24\"\n",
              "     width=\"24px\">\n",
              "    <g>\n",
              "        <path d=\"M19 3H5c-1.1 0-2 .9-2 2v14c0 1.1.9 2 2 2h14c1.1 0 2-.9 2-2V5c0-1.1-.9-2-2-2zM9 17H7v-7h2v7zm4 0h-2V7h2v10zm4 0h-2v-4h2v4z\"/>\n",
              "    </g>\n",
              "</svg>\n",
              "      </button>\n",
              "    </div>\n",
              "\n",
              "<style>\n",
              "  .colab-df-quickchart {\n",
              "    background-color: #E8F0FE;\n",
              "    border: none;\n",
              "    border-radius: 50%;\n",
              "    cursor: pointer;\n",
              "    display: none;\n",
              "    fill: #1967D2;\n",
              "    height: 32px;\n",
              "    padding: 0 0 0 0;\n",
              "    width: 32px;\n",
              "  }\n",
              "\n",
              "  .colab-df-quickchart:hover {\n",
              "    background-color: #E2EBFA;\n",
              "    box-shadow: 0px 1px 2px rgba(60, 64, 67, 0.3), 0px 1px 3px 1px rgba(60, 64, 67, 0.15);\n",
              "    fill: #174EA6;\n",
              "  }\n",
              "\n",
              "  [theme=dark] .colab-df-quickchart {\n",
              "    background-color: #3B4455;\n",
              "    fill: #D2E3FC;\n",
              "  }\n",
              "\n",
              "  [theme=dark] .colab-df-quickchart:hover {\n",
              "    background-color: #434B5C;\n",
              "    box-shadow: 0px 1px 3px 1px rgba(0, 0, 0, 0.15);\n",
              "    filter: drop-shadow(0px 1px 2px rgba(0, 0, 0, 0.3));\n",
              "    fill: #FFFFFF;\n",
              "  }\n",
              "</style>\n",
              "\n",
              "    <script>\n",
              "      async function quickchart(key) {\n",
              "        const containerElement = document.querySelector('#' + key);\n",
              "        const charts = await google.colab.kernel.invokeFunction(\n",
              "            'suggestCharts', [key], {});\n",
              "      }\n",
              "    </script>\n",
              "\n",
              "      <script>\n",
              "\n",
              "function displayQuickchartButton(domScope) {\n",
              "  let quickchartButtonEl =\n",
              "    domScope.querySelector('#df-3ecb0994-aadc-4fcc-abc8-157df5dac305 button.colab-df-quickchart');\n",
              "  quickchartButtonEl.style.display =\n",
              "    google.colab.kernel.accessAllowed ? 'block' : 'none';\n",
              "}\n",
              "\n",
              "        displayQuickchartButton(document);\n",
              "      </script>\n",
              "      <style>\n",
              "    .colab-df-container {\n",
              "      display:flex;\n",
              "      flex-wrap:wrap;\n",
              "      gap: 12px;\n",
              "    }\n",
              "\n",
              "    .colab-df-convert {\n",
              "      background-color: #E8F0FE;\n",
              "      border: none;\n",
              "      border-radius: 50%;\n",
              "      cursor: pointer;\n",
              "      display: none;\n",
              "      fill: #1967D2;\n",
              "      height: 32px;\n",
              "      padding: 0 0 0 0;\n",
              "      width: 32px;\n",
              "    }\n",
              "\n",
              "    .colab-df-convert:hover {\n",
              "      background-color: #E2EBFA;\n",
              "      box-shadow: 0px 1px 2px rgba(60, 64, 67, 0.3), 0px 1px 3px 1px rgba(60, 64, 67, 0.15);\n",
              "      fill: #174EA6;\n",
              "    }\n",
              "\n",
              "    [theme=dark] .colab-df-convert {\n",
              "      background-color: #3B4455;\n",
              "      fill: #D2E3FC;\n",
              "    }\n",
              "\n",
              "    [theme=dark] .colab-df-convert:hover {\n",
              "      background-color: #434B5C;\n",
              "      box-shadow: 0px 1px 3px 1px rgba(0, 0, 0, 0.15);\n",
              "      filter: drop-shadow(0px 1px 2px rgba(0, 0, 0, 0.3));\n",
              "      fill: #FFFFFF;\n",
              "    }\n",
              "  </style>\n",
              "\n",
              "      <script>\n",
              "        const buttonEl =\n",
              "          document.querySelector('#df-76c8530b-1f37-4a85-98d0-057de2430ce7 button.colab-df-convert');\n",
              "        buttonEl.style.display =\n",
              "          google.colab.kernel.accessAllowed ? 'block' : 'none';\n",
              "\n",
              "        async function convertToInteractive(key) {\n",
              "          const element = document.querySelector('#df-76c8530b-1f37-4a85-98d0-057de2430ce7');\n",
              "          const dataTable =\n",
              "            await google.colab.kernel.invokeFunction('convertToInteractive',\n",
              "                                                     [key], {});\n",
              "          if (!dataTable) return;\n",
              "\n",
              "          const docLinkHtml = 'Like what you see? Visit the ' +\n",
              "            '<a target=\"_blank\" href=https://colab.research.google.com/notebooks/data_table.ipynb>data table notebook</a>'\n",
              "            + ' to learn more about interactive tables.';\n",
              "          element.innerHTML = '';\n",
              "          dataTable['output_type'] = 'display_data';\n",
              "          await google.colab.output.renderOutput(dataTable, element);\n",
              "          const docLink = document.createElement('div');\n",
              "          docLink.innerHTML = docLinkHtml;\n",
              "          element.appendChild(docLink);\n",
              "        }\n",
              "      </script>\n",
              "    </div>\n",
              "  </div>\n"
            ]
          },
          "metadata": {},
          "execution_count": 22
        }
      ],
      "source": [
        "dataset = pd.read_csv('data_cart_abandonment.csv')\n",
        "dataset.head()"
      ]
    },
    {
      "cell_type": "code",
      "execution_count": 23,
      "metadata": {
        "colab": {
          "base_uri": "https://localhost:8080/"
        },
        "id": "kkZUFrNIh-g5",
        "outputId": "6f19d563-f3f8-418f-f9f0-6fd1336bebc1"
      },
      "outputs": [
        {
          "output_type": "execute_result",
          "data": {
            "text/plain": [
              "(4284, 13)"
            ]
          },
          "metadata": {},
          "execution_count": 23
        }
      ],
      "source": [
        "dataset.shape"
      ]
    },
    {
      "cell_type": "code",
      "execution_count": 24,
      "metadata": {
        "colab": {
          "base_uri": "https://localhost:8080/"
        },
        "id": "klCr7hawiE86",
        "outputId": "a3c24d39-1908-4b03-f4ab-f5e4183ba2c9"
      },
      "outputs": [
        {
          "output_type": "execute_result",
          "data": {
            "text/plain": [
              "ID                            object\n",
              "Is_Product_Details_viewed     object\n",
              "Session_Activity_Count         int64\n",
              "No_Items_Added_InCart        float64\n",
              "No_Items_Removed_FromCart      int64\n",
              "No_Cart_Viewed               float64\n",
              "No_Checkout_Confirmed          int64\n",
              "No_Checkout_Initiated          int64\n",
              "No_Cart_Items_Viewed           int64\n",
              "No_Customer_Login              int64\n",
              "No_Page_Viewed                 int64\n",
              "Customer_Segment_Type          int64\n",
              "Cart_Abandoned                 int64\n",
              "dtype: object"
            ]
          },
          "metadata": {},
          "execution_count": 24
        }
      ],
      "source": [
        "dataset.dtypes"
      ]
    },
    {
      "cell_type": "code",
      "execution_count": 25,
      "metadata": {
        "colab": {
          "base_uri": "https://localhost:8080/"
        },
        "id": "jd2pK7P7iIIN",
        "outputId": "e7b0b447-eb75-44e6-f46d-a182e075250f"
      },
      "outputs": [
        {
          "output_type": "stream",
          "name": "stdout",
          "text": [
            "<class 'pandas.core.frame.DataFrame'>\n",
            "RangeIndex: 4284 entries, 0 to 4283\n",
            "Data columns (total 13 columns):\n",
            " #   Column                     Non-Null Count  Dtype  \n",
            "---  ------                     --------------  -----  \n",
            " 0   ID                         4284 non-null   object \n",
            " 1   Is_Product_Details_viewed  4284 non-null   object \n",
            " 2   Session_Activity_Count     4284 non-null   int64  \n",
            " 3   No_Items_Added_InCart      4275 non-null   float64\n",
            " 4   No_Items_Removed_FromCart  4284 non-null   int64  \n",
            " 5   No_Cart_Viewed             4275 non-null   float64\n",
            " 6   No_Checkout_Confirmed      4284 non-null   int64  \n",
            " 7   No_Checkout_Initiated      4284 non-null   int64  \n",
            " 8   No_Cart_Items_Viewed       4284 non-null   int64  \n",
            " 9   No_Customer_Login          4284 non-null   int64  \n",
            " 10  No_Page_Viewed             4284 non-null   int64  \n",
            " 11  Customer_Segment_Type      4284 non-null   int64  \n",
            " 12  Cart_Abandoned             4284 non-null   int64  \n",
            "dtypes: float64(2), int64(9), object(2)\n",
            "memory usage: 435.2+ KB\n"
          ]
        }
      ],
      "source": [
        "dataset.info()"
      ]
    },
    {
      "cell_type": "code",
      "execution_count": 26,
      "metadata": {
        "colab": {
          "base_uri": "https://localhost:8080/",
          "height": 364
        },
        "id": "wYSx4mbiiLqX",
        "outputId": "3729f457-e110-4414-9935-af59d21f1740"
      },
      "outputs": [
        {
          "output_type": "execute_result",
          "data": {
            "text/plain": [
              "       Session_Activity_Count  No_Items_Added_InCart  \\\n",
              "count             4284.000000            4275.000000   \n",
              "mean                13.878151               3.488421   \n",
              "std                 15.934084               6.789401   \n",
              "min                  0.000000               0.000000   \n",
              "25%                  6.000000               1.000000   \n",
              "50%                 10.000000               2.000000   \n",
              "75%                 17.000000               5.000000   \n",
              "max                436.000000             225.000000   \n",
              "\n",
              "       No_Items_Removed_FromCart  No_Cart_Viewed  No_Checkout_Confirmed  \\\n",
              "count                4284.000000     4275.000000            4284.000000   \n",
              "mean                    0.867180        1.444211               0.187208   \n",
              "std                     3.070022        2.082496               0.517691   \n",
              "min                     0.000000        0.000000               0.000000   \n",
              "25%                     0.000000        0.000000               0.000000   \n",
              "50%                     0.000000        1.000000               0.000000   \n",
              "75%                     0.000000        2.000000               0.000000   \n",
              "max                    50.000000       34.000000              11.000000   \n",
              "\n",
              "       No_Checkout_Initiated   No_Cart_Items_Viewed  No_Customer_Login  \\\n",
              "count             4284.000000           4284.000000        4284.000000   \n",
              "mean                 0.980159              2.295985           0.169234   \n",
              "std                  1.140525              6.052666           0.400299   \n",
              "min                  0.000000              0.000000           0.000000   \n",
              "25%                  0.000000              1.000000           0.000000   \n",
              "50%                  1.000000              1.000000           0.000000   \n",
              "75%                  1.000000              2.000000           0.000000   \n",
              "max                 14.000000            256.000000           3.000000   \n",
              "\n",
              "       No_Page_Viewed  Customer_Segment_Type  Cart_Abandoned  \n",
              "count     4284.000000            4284.000000     4284.000000  \n",
              "mean         2.348506               0.563259        0.856209  \n",
              "std          2.868862               0.703856        0.350918  \n",
              "min          0.000000               0.000000        0.000000  \n",
              "25%          1.000000               0.000000        1.000000  \n",
              "50%          2.000000               0.000000        1.000000  \n",
              "75%          3.000000               1.000000        1.000000  \n",
              "max         35.000000               2.000000        1.000000  "
            ],
            "text/html": [
              "\n",
              "\n",
              "  <div id=\"df-8eabec0b-d5cd-4a19-8e3f-848f154de3ee\">\n",
              "    <div class=\"colab-df-container\">\n",
              "      <div>\n",
              "<style scoped>\n",
              "    .dataframe tbody tr th:only-of-type {\n",
              "        vertical-align: middle;\n",
              "    }\n",
              "\n",
              "    .dataframe tbody tr th {\n",
              "        vertical-align: top;\n",
              "    }\n",
              "\n",
              "    .dataframe thead th {\n",
              "        text-align: right;\n",
              "    }\n",
              "</style>\n",
              "<table border=\"1\" class=\"dataframe\">\n",
              "  <thead>\n",
              "    <tr style=\"text-align: right;\">\n",
              "      <th></th>\n",
              "      <th>Session_Activity_Count</th>\n",
              "      <th>No_Items_Added_InCart</th>\n",
              "      <th>No_Items_Removed_FromCart</th>\n",
              "      <th>No_Cart_Viewed</th>\n",
              "      <th>No_Checkout_Confirmed</th>\n",
              "      <th>No_Checkout_Initiated</th>\n",
              "      <th>No_Cart_Items_Viewed</th>\n",
              "      <th>No_Customer_Login</th>\n",
              "      <th>No_Page_Viewed</th>\n",
              "      <th>Customer_Segment_Type</th>\n",
              "      <th>Cart_Abandoned</th>\n",
              "    </tr>\n",
              "  </thead>\n",
              "  <tbody>\n",
              "    <tr>\n",
              "      <th>count</th>\n",
              "      <td>4284.000000</td>\n",
              "      <td>4275.000000</td>\n",
              "      <td>4284.000000</td>\n",
              "      <td>4275.000000</td>\n",
              "      <td>4284.000000</td>\n",
              "      <td>4284.000000</td>\n",
              "      <td>4284.000000</td>\n",
              "      <td>4284.000000</td>\n",
              "      <td>4284.000000</td>\n",
              "      <td>4284.000000</td>\n",
              "      <td>4284.000000</td>\n",
              "    </tr>\n",
              "    <tr>\n",
              "      <th>mean</th>\n",
              "      <td>13.878151</td>\n",
              "      <td>3.488421</td>\n",
              "      <td>0.867180</td>\n",
              "      <td>1.444211</td>\n",
              "      <td>0.187208</td>\n",
              "      <td>0.980159</td>\n",
              "      <td>2.295985</td>\n",
              "      <td>0.169234</td>\n",
              "      <td>2.348506</td>\n",
              "      <td>0.563259</td>\n",
              "      <td>0.856209</td>\n",
              "    </tr>\n",
              "    <tr>\n",
              "      <th>std</th>\n",
              "      <td>15.934084</td>\n",
              "      <td>6.789401</td>\n",
              "      <td>3.070022</td>\n",
              "      <td>2.082496</td>\n",
              "      <td>0.517691</td>\n",
              "      <td>1.140525</td>\n",
              "      <td>6.052666</td>\n",
              "      <td>0.400299</td>\n",
              "      <td>2.868862</td>\n",
              "      <td>0.703856</td>\n",
              "      <td>0.350918</td>\n",
              "    </tr>\n",
              "    <tr>\n",
              "      <th>min</th>\n",
              "      <td>0.000000</td>\n",
              "      <td>0.000000</td>\n",
              "      <td>0.000000</td>\n",
              "      <td>0.000000</td>\n",
              "      <td>0.000000</td>\n",
              "      <td>0.000000</td>\n",
              "      <td>0.000000</td>\n",
              "      <td>0.000000</td>\n",
              "      <td>0.000000</td>\n",
              "      <td>0.000000</td>\n",
              "      <td>0.000000</td>\n",
              "    </tr>\n",
              "    <tr>\n",
              "      <th>25%</th>\n",
              "      <td>6.000000</td>\n",
              "      <td>1.000000</td>\n",
              "      <td>0.000000</td>\n",
              "      <td>0.000000</td>\n",
              "      <td>0.000000</td>\n",
              "      <td>0.000000</td>\n",
              "      <td>1.000000</td>\n",
              "      <td>0.000000</td>\n",
              "      <td>1.000000</td>\n",
              "      <td>0.000000</td>\n",
              "      <td>1.000000</td>\n",
              "    </tr>\n",
              "    <tr>\n",
              "      <th>50%</th>\n",
              "      <td>10.000000</td>\n",
              "      <td>2.000000</td>\n",
              "      <td>0.000000</td>\n",
              "      <td>1.000000</td>\n",
              "      <td>0.000000</td>\n",
              "      <td>1.000000</td>\n",
              "      <td>1.000000</td>\n",
              "      <td>0.000000</td>\n",
              "      <td>2.000000</td>\n",
              "      <td>0.000000</td>\n",
              "      <td>1.000000</td>\n",
              "    </tr>\n",
              "    <tr>\n",
              "      <th>75%</th>\n",
              "      <td>17.000000</td>\n",
              "      <td>5.000000</td>\n",
              "      <td>0.000000</td>\n",
              "      <td>2.000000</td>\n",
              "      <td>0.000000</td>\n",
              "      <td>1.000000</td>\n",
              "      <td>2.000000</td>\n",
              "      <td>0.000000</td>\n",
              "      <td>3.000000</td>\n",
              "      <td>1.000000</td>\n",
              "      <td>1.000000</td>\n",
              "    </tr>\n",
              "    <tr>\n",
              "      <th>max</th>\n",
              "      <td>436.000000</td>\n",
              "      <td>225.000000</td>\n",
              "      <td>50.000000</td>\n",
              "      <td>34.000000</td>\n",
              "      <td>11.000000</td>\n",
              "      <td>14.000000</td>\n",
              "      <td>256.000000</td>\n",
              "      <td>3.000000</td>\n",
              "      <td>35.000000</td>\n",
              "      <td>2.000000</td>\n",
              "      <td>1.000000</td>\n",
              "    </tr>\n",
              "  </tbody>\n",
              "</table>\n",
              "</div>\n",
              "      <button class=\"colab-df-convert\" onclick=\"convertToInteractive('df-8eabec0b-d5cd-4a19-8e3f-848f154de3ee')\"\n",
              "              title=\"Convert this dataframe to an interactive table.\"\n",
              "              style=\"display:none;\">\n",
              "\n",
              "  <svg xmlns=\"http://www.w3.org/2000/svg\" height=\"24px\"viewBox=\"0 0 24 24\"\n",
              "       width=\"24px\">\n",
              "    <path d=\"M0 0h24v24H0V0z\" fill=\"none\"/>\n",
              "    <path d=\"M18.56 5.44l.94 2.06.94-2.06 2.06-.94-2.06-.94-.94-2.06-.94 2.06-2.06.94zm-11 1L8.5 8.5l.94-2.06 2.06-.94-2.06-.94L8.5 2.5l-.94 2.06-2.06.94zm10 10l.94 2.06.94-2.06 2.06-.94-2.06-.94-.94-2.06-.94 2.06-2.06.94z\"/><path d=\"M17.41 7.96l-1.37-1.37c-.4-.4-.92-.59-1.43-.59-.52 0-1.04.2-1.43.59L10.3 9.45l-7.72 7.72c-.78.78-.78 2.05 0 2.83L4 21.41c.39.39.9.59 1.41.59.51 0 1.02-.2 1.41-.59l7.78-7.78 2.81-2.81c.8-.78.8-2.07 0-2.86zM5.41 20L4 18.59l7.72-7.72 1.47 1.35L5.41 20z\"/>\n",
              "  </svg>\n",
              "      </button>\n",
              "\n",
              "\n",
              "\n",
              "    <div id=\"df-9780c0e8-1c28-48e7-8608-7e443bccbe50\">\n",
              "      <button class=\"colab-df-quickchart\" onclick=\"quickchart('df-9780c0e8-1c28-48e7-8608-7e443bccbe50')\"\n",
              "              title=\"Suggest charts.\"\n",
              "              style=\"display:none;\">\n",
              "\n",
              "<svg xmlns=\"http://www.w3.org/2000/svg\" height=\"24px\"viewBox=\"0 0 24 24\"\n",
              "     width=\"24px\">\n",
              "    <g>\n",
              "        <path d=\"M19 3H5c-1.1 0-2 .9-2 2v14c0 1.1.9 2 2 2h14c1.1 0 2-.9 2-2V5c0-1.1-.9-2-2-2zM9 17H7v-7h2v7zm4 0h-2V7h2v10zm4 0h-2v-4h2v4z\"/>\n",
              "    </g>\n",
              "</svg>\n",
              "      </button>\n",
              "    </div>\n",
              "\n",
              "<style>\n",
              "  .colab-df-quickchart {\n",
              "    background-color: #E8F0FE;\n",
              "    border: none;\n",
              "    border-radius: 50%;\n",
              "    cursor: pointer;\n",
              "    display: none;\n",
              "    fill: #1967D2;\n",
              "    height: 32px;\n",
              "    padding: 0 0 0 0;\n",
              "    width: 32px;\n",
              "  }\n",
              "\n",
              "  .colab-df-quickchart:hover {\n",
              "    background-color: #E2EBFA;\n",
              "    box-shadow: 0px 1px 2px rgba(60, 64, 67, 0.3), 0px 1px 3px 1px rgba(60, 64, 67, 0.15);\n",
              "    fill: #174EA6;\n",
              "  }\n",
              "\n",
              "  [theme=dark] .colab-df-quickchart {\n",
              "    background-color: #3B4455;\n",
              "    fill: #D2E3FC;\n",
              "  }\n",
              "\n",
              "  [theme=dark] .colab-df-quickchart:hover {\n",
              "    background-color: #434B5C;\n",
              "    box-shadow: 0px 1px 3px 1px rgba(0, 0, 0, 0.15);\n",
              "    filter: drop-shadow(0px 1px 2px rgba(0, 0, 0, 0.3));\n",
              "    fill: #FFFFFF;\n",
              "  }\n",
              "</style>\n",
              "\n",
              "    <script>\n",
              "      async function quickchart(key) {\n",
              "        const containerElement = document.querySelector('#' + key);\n",
              "        const charts = await google.colab.kernel.invokeFunction(\n",
              "            'suggestCharts', [key], {});\n",
              "      }\n",
              "    </script>\n",
              "\n",
              "      <script>\n",
              "\n",
              "function displayQuickchartButton(domScope) {\n",
              "  let quickchartButtonEl =\n",
              "    domScope.querySelector('#df-9780c0e8-1c28-48e7-8608-7e443bccbe50 button.colab-df-quickchart');\n",
              "  quickchartButtonEl.style.display =\n",
              "    google.colab.kernel.accessAllowed ? 'block' : 'none';\n",
              "}\n",
              "\n",
              "        displayQuickchartButton(document);\n",
              "      </script>\n",
              "      <style>\n",
              "    .colab-df-container {\n",
              "      display:flex;\n",
              "      flex-wrap:wrap;\n",
              "      gap: 12px;\n",
              "    }\n",
              "\n",
              "    .colab-df-convert {\n",
              "      background-color: #E8F0FE;\n",
              "      border: none;\n",
              "      border-radius: 50%;\n",
              "      cursor: pointer;\n",
              "      display: none;\n",
              "      fill: #1967D2;\n",
              "      height: 32px;\n",
              "      padding: 0 0 0 0;\n",
              "      width: 32px;\n",
              "    }\n",
              "\n",
              "    .colab-df-convert:hover {\n",
              "      background-color: #E2EBFA;\n",
              "      box-shadow: 0px 1px 2px rgba(60, 64, 67, 0.3), 0px 1px 3px 1px rgba(60, 64, 67, 0.15);\n",
              "      fill: #174EA6;\n",
              "    }\n",
              "\n",
              "    [theme=dark] .colab-df-convert {\n",
              "      background-color: #3B4455;\n",
              "      fill: #D2E3FC;\n",
              "    }\n",
              "\n",
              "    [theme=dark] .colab-df-convert:hover {\n",
              "      background-color: #434B5C;\n",
              "      box-shadow: 0px 1px 3px 1px rgba(0, 0, 0, 0.15);\n",
              "      filter: drop-shadow(0px 1px 2px rgba(0, 0, 0, 0.3));\n",
              "      fill: #FFFFFF;\n",
              "    }\n",
              "  </style>\n",
              "\n",
              "      <script>\n",
              "        const buttonEl =\n",
              "          document.querySelector('#df-8eabec0b-d5cd-4a19-8e3f-848f154de3ee button.colab-df-convert');\n",
              "        buttonEl.style.display =\n",
              "          google.colab.kernel.accessAllowed ? 'block' : 'none';\n",
              "\n",
              "        async function convertToInteractive(key) {\n",
              "          const element = document.querySelector('#df-8eabec0b-d5cd-4a19-8e3f-848f154de3ee');\n",
              "          const dataTable =\n",
              "            await google.colab.kernel.invokeFunction('convertToInteractive',\n",
              "                                                     [key], {});\n",
              "          if (!dataTable) return;\n",
              "\n",
              "          const docLinkHtml = 'Like what you see? Visit the ' +\n",
              "            '<a target=\"_blank\" href=https://colab.research.google.com/notebooks/data_table.ipynb>data table notebook</a>'\n",
              "            + ' to learn more about interactive tables.';\n",
              "          element.innerHTML = '';\n",
              "          dataTable['output_type'] = 'display_data';\n",
              "          await google.colab.output.renderOutput(dataTable, element);\n",
              "          const docLink = document.createElement('div');\n",
              "          docLink.innerHTML = docLinkHtml;\n",
              "          element.appendChild(docLink);\n",
              "        }\n",
              "      </script>\n",
              "    </div>\n",
              "  </div>\n"
            ]
          },
          "metadata": {},
          "execution_count": 26
        }
      ],
      "source": [
        "dataset.describe()"
      ]
    },
    {
      "cell_type": "code",
      "execution_count": 27,
      "metadata": {
        "colab": {
          "base_uri": "https://localhost:8080/"
        },
        "id": "tmi6N3Q2iO0c",
        "outputId": "5dd42e7f-d29e-4f18-9755-ba7a7bf3e70a"
      },
      "outputs": [
        {
          "output_type": "execute_result",
          "data": {
            "text/plain": [
              "CategoricalDtype(categories=[0, 1], ordered=False)"
            ]
          },
          "metadata": {},
          "execution_count": 27
        }
      ],
      "source": [
        "dataset.Cart_Abandoned=pd.Categorical(dataset.Cart_Abandoned)\n",
        "dataset.Cart_Abandoned.dtypes"
      ]
    },
    {
      "cell_type": "code",
      "execution_count": 28,
      "metadata": {
        "id": "Kf53oYACloAv"
      },
      "outputs": [],
      "source": [
        "dataset.Customer_Segment_Type=pd.Categorical(dataset.Customer_Segment_Type)"
      ]
    },
    {
      "cell_type": "code",
      "execution_count": 28,
      "metadata": {
        "id": "8pT0WPWgxH5O"
      },
      "outputs": [],
      "source": []
    },
    {
      "cell_type": "code",
      "execution_count": 29,
      "metadata": {
        "colab": {
          "base_uri": "https://localhost:8080/"
        },
        "id": "9E9Gpge_lsw8",
        "outputId": "e7cee5ff-dbc0-48df-8bbc-aea8760bf78e"
      },
      "outputs": [
        {
          "output_type": "execute_result",
          "data": {
            "text/plain": [
              "ID                             object\n",
              "Is_Product_Details_viewed      object\n",
              "Session_Activity_Count          int64\n",
              "No_Items_Added_InCart         float64\n",
              "No_Items_Removed_FromCart       int64\n",
              "No_Cart_Viewed                float64\n",
              "No_Checkout_Confirmed           int64\n",
              "No_Checkout_Initiated           int64\n",
              "No_Cart_Items_Viewed            int64\n",
              "No_Customer_Login               int64\n",
              "No_Page_Viewed                  int64\n",
              "Customer_Segment_Type        category\n",
              "Cart_Abandoned               category\n",
              "dtype: object"
            ]
          },
          "metadata": {},
          "execution_count": 29
        }
      ],
      "source": [
        "dataset.dtypes"
      ]
    },
    {
      "cell_type": "markdown",
      "metadata": {
        "id": "67Hs6Jftl3AF"
      },
      "source": [
        "**COUNT PLOT OF NUMBER OF ABANDONED CARTS**"
      ]
    },
    {
      "cell_type": "code",
      "execution_count": 30,
      "metadata": {
        "colab": {
          "base_uri": "https://localhost:8080/",
          "height": 448
        },
        "id": "N32wmMEVluic",
        "outputId": "015af7fa-86df-4a8c-a982-e9ef59178265"
      },
      "outputs": [
        {
          "output_type": "execute_result",
          "data": {
            "text/plain": [
              "<Axes: ylabel='count'>"
            ]
          },
          "metadata": {},
          "execution_count": 30
        },
        {
          "output_type": "display_data",
          "data": {
            "text/plain": [
              "<Figure size 640x480 with 1 Axes>"
            ],
            "image/png": "[encoded data removed]"
          },
          "metadata": {}
        }
      ],
      "source": [
        "sns.countplot(dataset.Cart_Abandoned)"
      ]
    },
    {
      "cell_type": "markdown",
      "metadata": {
        "id": "OWMj_5W3mjAk"
      },
      "source": [
        "**EXPLORATORY DATA ANALYSIS**"
      ]
    },
    {
      "cell_type": "code",
      "execution_count": 31,
      "metadata": {
        "id": "Uu2b_CuumpEe"
      },
      "outputs": [],
      "source": [
        "num=dataset.select_dtypes(include=[\"float64\",\"int64\"])\n",
        "cat=dataset.select_dtypes(include=[\"object\",\"category\"]).drop([\"ID\"],axis=1)"
      ]
    },
    {
      "cell_type": "code",
      "execution_count": 32,
      "metadata": {
        "colab": {
          "base_uri": "https://localhost:8080/"
        },
        "id": "8_QzohlZnT7I",
        "outputId": "4cb539c5-ccae-4680-d4b9-aac44c6be5d9"
      },
      "outputs": [
        {
          "output_type": "execute_result",
          "data": {
            "text/plain": [
              "(4284, 9)"
            ]
          },
          "metadata": {},
          "execution_count": 32
        }
      ],
      "source": [
        "num.shape"
      ]
    },
    {
      "cell_type": "markdown",
      "metadata": {
        "id": "U45UdVBVnjcB"
      },
      "source": [
        "1.FOR NUMERICAL VARIABLES"
      ]
    },
    {
      "cell_type": "code",
      "execution_count": 33,
      "metadata": {
        "colab": {
          "base_uri": "https://localhost:8080/",
          "height": 438
        },
        "id": "W3c_n_WlnXQ9",
        "outputId": "1632aed7-9087-47ce-8ec1-3c8e978d0ab4"
      },
      "outputs": [
        {
          "output_type": "execute_result",
          "data": {
            "text/plain": [
              "array([[<Axes: title={'center': 'Session_Activity_Count'}>,\n",
              "        <Axes: title={'center': 'No_Items_Added_InCart'}>,\n",
              "        <Axes: title={'center': 'No_Items_Removed_FromCart'}>,\n",
              "        <Axes: title={'center': 'No_Cart_Viewed'}>,\n",
              "        <Axes: title={'center': 'No_Checkout_Confirmed'}>],\n",
              "       [<Axes: title={'center': 'No_Checkout_Initiated '}>,\n",
              "        <Axes: title={'center': 'No_Cart_Items_Viewed'}>,\n",
              "        <Axes: title={'center': 'No_Customer_Login'}>,\n",
              "        <Axes: title={'center': 'No_Page_Viewed'}>, <Axes: >]],\n",
              "      dtype=object)"
            ]
          },
          "metadata": {},
          "execution_count": 33
        },
        {
          "output_type": "display_data",
          "data": {
            "text/plain": [
              "<Figure size 2000x600 with 10 Axes>"
            ],
            "image/png": "[encoded data removed]"
          },
          "metadata": {}
        }
      ],
      "source": [
        "num.hist(bins=15, figsize=(20, 6), layout=(2, 5))"
      ]
    },
    {
      "cell_type": "markdown",
      "metadata": {
        "id": "yaFJvG6dnt3o"
      },
      "source": [
        "2.FOR CATEGORICAL VARIABLES"
      ]
    },
    {
      "cell_type": "code",
      "execution_count": 34,
      "metadata": {
        "colab": {
          "base_uri": "https://localhost:8080/",
          "height": 321
        },
        "id": "kSI77idendJx",
        "outputId": "ae712a92-7069-4c1d-e3d5-32c701feabcd"
      },
      "outputs": [
        {
          "output_type": "display_data",
          "data": {
            "text/plain": [
              "<Figure size 2000x800 with 3 Axes>"
            ],
            "image/png": "[encoded data removed]"
          },
          "metadata": {}
        }
      ],
      "source": [
        "f, ax = plt.subplots(nrows=1,ncols=3,figsize=(20, 8))\n",
        "for i,j in zip(cat.columns.tolist(), ax.flatten()):\n",
        "    sns.countplot(x=cat[i],ax=j)"
      ]
    },
    {
      "cell_type": "markdown",
      "metadata": {
        "id": "lvWdOAZTpuBZ"
      },
      "source": [
        "**CORELATION PLOT OF INDEPENDENT ATTRIBUTES**"
      ]
    },
    {
      "cell_type": "code",
      "execution_count": 35,
      "metadata": {
        "colab": {
          "base_uri": "https://localhost:8080/",
          "height": 647
        },
        "id": "AASarWBEp2pL",
        "outputId": "e9f7a3bc-ca61-432b-993d-6140c506ac5e"
      },
      "outputs": [
        {
          "output_type": "execute_result",
          "data": {
            "text/plain": [
              "<Axes: >"
            ]
          },
          "metadata": {},
          "execution_count": 35
        },
        {
          "output_type": "display_data",
          "data": {
            "text/plain": [
              "<Figure size 640x480 with 2 Axes>"
            ],
            "image/png": "[encoded data removed]"
          },
          "metadata": {}
        }
      ],
      "source": [
        "corr = num.corr()\n",
        "sns.heatmap(corr)"
      ]
    },
    {
      "cell_type": "markdown",
      "metadata": {
        "id": "3buQ0ZZop9Pi"
      },
      "source": [
        "**DATA PREPARATION**"
      ]
    },
    {
      "cell_type": "markdown",
      "metadata": {
        "id": "-mYvTFnAqOuj"
      },
      "source": [
        "* FINDING NA VALUES FROM DATASET"
      ]
    },
    {
      "cell_type": "code",
      "execution_count": 36,
      "metadata": {
        "colab": {
          "base_uri": "https://localhost:8080/"
        },
        "id": "elehv9Jkp7C9",
        "outputId": "ebb182f8-da67-4007-a3a4-bf865d3bdd83"
      },
      "outputs": [
        {
          "output_type": "execute_result",
          "data": {
            "text/plain": [
              "ID                           0\n",
              "Is_Product_Details_viewed    0\n",
              "Session_Activity_Count       0\n",
              "No_Items_Added_InCart        9\n",
              "No_Items_Removed_FromCart    0\n",
              "No_Cart_Viewed               9\n",
              "No_Checkout_Confirmed        0\n",
              "No_Checkout_Initiated        0\n",
              "No_Cart_Items_Viewed         0\n",
              "No_Customer_Login            0\n",
              "No_Page_Viewed               0\n",
              "Customer_Segment_Type        0\n",
              "Cart_Abandoned               0\n",
              "dtype: int64"
            ]
          },
          "metadata": {},
          "execution_count": 36
        }
      ],
      "source": [
        "data = dataset.copy()\n",
        "data.isna().sum()"
      ]
    },
    {
      "cell_type": "code",
      "execution_count": 37,
      "metadata": {
        "colab": {
          "base_uri": "https://localhost:8080/"
        },
        "id": "mNBby-FWqbi5",
        "outputId": "156399fc-83f4-4100-cc77-a632503e864e"
      },
      "outputs": [
        {
          "output_type": "execute_result",
          "data": {
            "text/plain": [
              "['No_Items_Added_InCart', 'No_Cart_Viewed']"
            ]
          },
          "metadata": {},
          "execution_count": 37
        }
      ],
      "source": [
        "#COLUMNS WHICH HAVE NA VALUES\n",
        "null_col = data.columns[data.isna().any()].tolist()\n",
        "null_col"
      ]
    },
    {
      "cell_type": "markdown",
      "metadata": {
        "id": "T5V3Umtvqu-Y"
      },
      "source": [
        "* REPLACING NA VALUES WITH RESPECTIVE COLUMN MEAN"
      ]
    },
    {
      "cell_type": "code",
      "execution_count": 38,
      "metadata": {
        "id": "d9p_EkiOqij9"
      },
      "outputs": [],
      "source": [
        "data['No_Items_Added_InCart'] = data['No_Items_Added_InCart'].fillna(data['No_Items_Added_InCart'].mean())\n",
        "data['No_Cart_Viewed'] = data['No_Cart_Viewed'].fillna(data['No_Cart_Viewed'].mean())"
      ]
    },
    {
      "cell_type": "code",
      "execution_count": 39,
      "metadata": {
        "id": "wzijOGKwq84c"
      },
      "outputs": [],
      "source": [
        "data[null_col] = data[null_col].astype(\"int64\")"
      ]
    },
    {
      "cell_type": "code",
      "execution_count": 40,
      "metadata": {
        "colab": {
          "base_uri": "https://localhost:8080/"
        },
        "id": "9VMKNZEPq-Jz",
        "outputId": "4d3d1441-b8a9-4a42-c109-71cdcd78d116"
      },
      "outputs": [
        {
          "output_type": "execute_result",
          "data": {
            "text/plain": [
              "ID                           0\n",
              "Is_Product_Details_viewed    0\n",
              "Session_Activity_Count       0\n",
              "No_Items_Added_InCart        0\n",
              "No_Items_Removed_FromCart    0\n",
              "No_Cart_Viewed               0\n",
              "No_Checkout_Confirmed        0\n",
              "No_Checkout_Initiated        0\n",
              "No_Cart_Items_Viewed         0\n",
              "No_Customer_Login            0\n",
              "No_Page_Viewed               0\n",
              "Customer_Segment_Type        0\n",
              "Cart_Abandoned               0\n",
              "dtype: int64"
            ]
          },
          "metadata": {},
          "execution_count": 40
        }
      ],
      "source": [
        "#CHECKING IF STILL ANY NA VALUES PRESENT\n",
        "data.isna().sum()"
      ]
    },
    {
      "cell_type": "markdown",
      "metadata": {
        "id": "0oMYbvzprLxr"
      },
      "source": [
        "1. TAKING CARE OF OUTLIERS USING MIN-MAX NORMALISATION"
      ]
    },
    {
      "cell_type": "code",
      "execution_count": 41,
      "metadata": {
        "id": "jckztOMzrEs5"
      },
      "outputs": [],
      "source": [
        "num=data.select_dtypes(include=[\"int64\"])\n",
        "cat=data.select_dtypes(include=[\"object\",\"category\"]).drop([\"ID\"],axis=1)"
      ]
    },
    {
      "cell_type": "code",
      "execution_count": 42,
      "metadata": {
        "colab": {
          "base_uri": "https://localhost:8080/"
        },
        "id": "_4mkEYmjrchf",
        "outputId": "517da0cb-2b36-4412-a76c-caa2c62b7932"
      },
      "outputs": [
        {
          "output_type": "execute_result",
          "data": {
            "text/plain": [
              "array([[0.00917431, 0.00444444, 0.        , ..., 0.00390625, 0.        ,\n",
              "        0.        ],\n",
              "       [0.08715596, 0.        , 0.        , ..., 0.0078125 , 0.        ,\n",
              "        0.05714286],\n",
              "       [0.01834862, 0.02222222, 0.        , ..., 0.00390625, 0.        ,\n",
              "        0.        ],\n",
              "       ...,\n",
              "       [0.00917431, 0.00444444, 0.        , ..., 0.00390625, 0.        ,\n",
              "        0.        ],\n",
              "       [0.01834862, 0.01333333, 0.        , ..., 0.00390625, 0.        ,\n",
              "        0.05714286],\n",
              "       [0.07110092, 0.01777778, 0.        , ..., 0.02734375, 0.        ,\n",
              "        0.02857143]])"
            ]
          },
          "metadata": {},
          "execution_count": 42
        }
      ],
      "source": [
        "min_max_scaler = MinMaxScaler()\n",
        "x_scaled = min_max_scaler.fit_transform(num)\n",
        "x_scaled"
      ]
    },
    {
      "cell_type": "code",
      "execution_count": 43,
      "metadata": {
        "id": "A29NMGXWfjpv"
      },
      "outputs": [],
      "source": [
        "# pickle_out = open(\"scalar.pkl\", \"wb\")\n",
        "# pickle.dump(min_max_scaler, pickle_out)\n",
        "# pickle_out.close()"
      ]
    },
    {
      "cell_type": "code",
      "execution_count": 44,
      "metadata": {
        "colab": {
          "base_uri": "https://localhost:8080/",
          "height": 270
        },
        "id": "Rq2AUI4Erhb1",
        "outputId": "4498ac7d-284a-44fd-896f-745edf9e3090"
      },
      "outputs": [
        {
          "output_type": "execute_result",
          "data": {
            "text/plain": [
              "   Session_Activity_Count  No_Items_Added_InCart  No_Items_Removed_FromCart  \\\n",
              "0                0.009174               0.004444                       0.00   \n",
              "1                0.087156               0.000000                       0.00   \n",
              "2                0.018349               0.022222                       0.00   \n",
              "3                0.013761               0.000000                       0.00   \n",
              "4                0.071101               0.062222                       0.24   \n",
              "\n",
              "   No_Cart_Viewed  No_Checkout_Confirmed  No_Checkout_Initiated   \\\n",
              "0        0.000000               0.000000                0.000000   \n",
              "1        0.058824               0.000000                0.000000   \n",
              "2        0.000000               0.090909                0.071429   \n",
              "3        0.058824               0.000000                0.000000   \n",
              "4        0.029412               0.000000                0.000000   \n",
              "\n",
              "   No_Cart_Items_Viewed  No_Customer_Login  No_Page_Viewed  \n",
              "0              0.003906                0.0        0.000000  \n",
              "1              0.007812                0.0        0.057143  \n",
              "2              0.003906                0.0        0.000000  \n",
              "3              0.015625                0.0        0.000000  \n",
              "4              0.015625                0.0        0.000000  "
            ],
            "text/html": [
              "\n",
              "\n",
              "  <div id=\"df-8ff6918e-f8a4-4ef4-95aa-6a6dce62f604\">\n",
              "    <div class=\"colab-df-container\">\n",
              "      <div>\n",
              "<style scoped>\n",
              "    .dataframe tbody tr th:only-of-type {\n",
              "        vertical-align: middle;\n",
              "    }\n",
              "\n",
              "    .dataframe tbody tr th {\n",
              "        vertical-align: top;\n",
              "    }\n",
              "\n",
              "    .dataframe thead th {\n",
              "        text-align: right;\n",
              "    }\n",
              "</style>\n",
              "<table border=\"1\" class=\"dataframe\">\n",
              "  <thead>\n",
              "    <tr style=\"text-align: right;\">\n",
              "      <th></th>\n",
              "      <th>Session_Activity_Count</th>\n",
              "      <th>No_Items_Added_InCart</th>\n",
              "      <th>No_Items_Removed_FromCart</th>\n",
              "      <th>No_Cart_Viewed</th>\n",
              "      <th>No_Checkout_Confirmed</th>\n",
              "      <th>No_Checkout_Initiated</th>\n",
              "      <th>No_Cart_Items_Viewed</th>\n",
              "      <th>No_Customer_Login</th>\n",
              "      <th>No_Page_Viewed</th>\n",
              "    </tr>\n",
              "  </thead>\n",
              "  <tbody>\n",
              "    <tr>\n",
              "      <th>0</th>\n",
              "      <td>0.009174</td>\n",
              "      <td>0.004444</td>\n",
              "      <td>0.00</td>\n",
              "      <td>0.000000</td>\n",
              "      <td>0.000000</td>\n",
              "      <td>0.000000</td>\n",
              "      <td>0.003906</td>\n",
              "      <td>0.0</td>\n",
              "      <td>0.000000</td>\n",
              "    </tr>\n",
              "    <tr>\n",
              "      <th>1</th>\n",
              "      <td>0.087156</td>\n",
              "      <td>0.000000</td>\n",
              "      <td>0.00</td>\n",
              "      <td>0.058824</td>\n",
              "      <td>0.000000</td>\n",
              "      <td>0.000000</td>\n",
              "      <td>0.007812</td>\n",
              "      <td>0.0</td>\n",
              "      <td>0.057143</td>\n",
              "    </tr>\n",
              "    <tr>\n",
              "      <th>2</th>\n",
              "      <td>0.018349</td>\n",
              "      <td>0.022222</td>\n",
              "      <td>0.00</td>\n",
              "      <td>0.000000</td>\n",
              "      <td>0.090909</td>\n",
              "      <td>0.071429</td>\n",
              "      <td>0.003906</td>\n",
              "      <td>0.0</td>\n",
              "      <td>0.000000</td>\n",
              "    </tr>\n",
              "    <tr>\n",
              "      <th>3</th>\n",
              "      <td>0.013761</td>\n",
              "      <td>0.000000</td>\n",
              "      <td>0.00</td>\n",
              "      <td>0.058824</td>\n",
              "      <td>0.000000</td>\n",
              "      <td>0.000000</td>\n",
              "      <td>0.015625</td>\n",
              "      <td>0.0</td>\n",
              "      <td>0.000000</td>\n",
              "    </tr>\n",
              "    <tr>\n",
              "      <th>4</th>\n",
              "      <td>0.071101</td>\n",
              "      <td>0.062222</td>\n",
              "      <td>0.24</td>\n",
              "      <td>0.029412</td>\n",
              "      <td>0.000000</td>\n",
              "      <td>0.000000</td>\n",
              "      <td>0.015625</td>\n",
              "      <td>0.0</td>\n",
              "      <td>0.000000</td>\n",
              "    </tr>\n",
              "  </tbody>\n",
              "</table>\n",
              "</div>\n",
              "      <button class=\"colab-df-convert\" onclick=\"convertToInteractive('df-8ff6918e-f8a4-4ef4-95aa-6a6dce62f604')\"\n",
              "              title=\"Convert this dataframe to an interactive table.\"\n",
              "              style=\"display:none;\">\n",
              "\n",
              "  <svg xmlns=\"http://www.w3.org/2000/svg\" height=\"24px\"viewBox=\"0 0 24 24\"\n",
              "       width=\"24px\">\n",
              "    <path d=\"M0 0h24v24H0V0z\" fill=\"none\"/>\n",
              "    <path d=\"M18.56 5.44l.94 2.06.94-2.06 2.06-.94-2.06-.94-.94-2.06-.94 2.06-2.06.94zm-11 1L8.5 8.5l.94-2.06 2.06-.94-2.06-.94L8.5 2.5l-.94 2.06-2.06.94zm10 10l.94 2.06.94-2.06 2.06-.94-2.06-.94-.94-2.06-.94 2.06-2.06.94z\"/><path d=\"M17.41 7.96l-1.37-1.37c-.4-.4-.92-.59-1.43-.59-.52 0-1.04.2-1.43.59L10.3 9.45l-7.72 7.72c-.78.78-.78 2.05 0 2.83L4 21.41c.39.39.9.59 1.41.59.51 0 1.02-.2 1.41-.59l7.78-7.78 2.81-2.81c.8-.78.8-2.07 0-2.86zM5.41 20L4 18.59l7.72-7.72 1.47 1.35L5.41 20z\"/>\n",
              "  </svg>\n",
              "      </button>\n",
              "\n",
              "\n",
              "\n",
              "    <div id=\"df-9bdc7d62-cfd2-4b15-982c-24cd6dc8e293\">\n",
              "      <button class=\"colab-df-quickchart\" onclick=\"quickchart('df-9bdc7d62-cfd2-4b15-982c-24cd6dc8e293')\"\n",
              "              title=\"Suggest charts.\"\n",
              "              style=\"display:none;\">\n",
              "\n",
              "<svg xmlns=\"http://www.w3.org/2000/svg\" height=\"24px\"viewBox=\"0 0 24 24\"\n",
              "     width=\"24px\">\n",
              "    <g>\n",
              "        <path d=\"M19 3H5c-1.1 0-2 .9-2 2v14c0 1.1.9 2 2 2h14c1.1 0 2-.9 2-2V5c0-1.1-.9-2-2-2zM9 17H7v-7h2v7zm4 0h-2V7h2v10zm4 0h-2v-4h2v4z\"/>\n",
              "    </g>\n",
              "</svg>\n",
              "      </button>\n",
              "    </div>\n",
              "\n",
              "<style>\n",
              "  .colab-df-quickchart {\n",
              "    background-color: #E8F0FE;\n",
              "    border: none;\n",
              "    border-radius: 50%;\n",
              "    cursor: pointer;\n",
              "    display: none;\n",
              "    fill: #1967D2;\n",
              "    height: 32px;\n",
              "    padding: 0 0 0 0;\n",
              "    width: 32px;\n",
              "  }\n",
              "\n",
              "  .colab-df-quickchart:hover {\n",
              "    background-color: #E2EBFA;\n",
              "    box-shadow: 0px 1px 2px rgba(60, 64, 67, 0.3), 0px 1px 3px 1px rgba(60, 64, 67, 0.15);\n",
              "    fill: #174EA6;\n",
              "  }\n",
              "\n",
              "  [theme=dark] .colab-df-quickchart {\n",
              "    background-color: #3B4455;\n",
              "    fill: #D2E3FC;\n",
              "  }\n",
              "\n",
              "  [theme=dark] .colab-df-quickchart:hover {\n",
              "    background-color: #434B5C;\n",
              "    box-shadow: 0px 1px 3px 1px rgba(0, 0, 0, 0.15);\n",
              "    filter: drop-shadow(0px 1px 2px rgba(0, 0, 0, 0.3));\n",
              "    fill: #FFFFFF;\n",
              "  }\n",
              "</style>\n",
              "\n",
              "    <script>\n",
              "      async function quickchart(key) {\n",
              "        const containerElement = document.querySelector('#' + key);\n",
              "        const charts = await google.colab.kernel.invokeFunction(\n",
              "            'suggestCharts', [key], {});\n",
              "      }\n",
              "    </script>\n",
              "\n",
              "      <script>\n",
              "\n",
              "function displayQuickchartButton(domScope) {\n",
              "  let quickchartButtonEl =\n",
              "    domScope.querySelector('#df-9bdc7d62-cfd2-4b15-982c-24cd6dc8e293 button.colab-df-quickchart');\n",
              "  quickchartButtonEl.style.display =\n",
              "    google.colab.kernel.accessAllowed ? 'block' : 'none';\n",
              "}\n",
              "\n",
              "        displayQuickchartButton(document);\n",
              "      </script>\n",
              "      <style>\n",
              "    .colab-df-container {\n",
              "      display:flex;\n",
              "      flex-wrap:wrap;\n",
              "      gap: 12px;\n",
              "    }\n",
              "\n",
              "    .colab-df-convert {\n",
              "      background-color: #E8F0FE;\n",
              "      border: none;\n",
              "      border-radius: 50%;\n",
              "      cursor: pointer;\n",
              "      display: none;\n",
              "      fill: #1967D2;\n",
              "      height: 32px;\n",
              "      padding: 0 0 0 0;\n",
              "      width: 32px;\n",
              "    }\n",
              "\n",
              "    .colab-df-convert:hover {\n",
              "      background-color: #E2EBFA;\n",
              "      box-shadow: 0px 1px 2px rgba(60, 64, 67, 0.3), 0px 1px 3px 1px rgba(60, 64, 67, 0.15);\n",
              "      fill: #174EA6;\n",
              "    }\n",
              "\n",
              "    [theme=dark] .colab-df-convert {\n",
              "      background-color: #3B4455;\n",
              "      fill: #D2E3FC;\n",
              "    }\n",
              "\n",
              "    [theme=dark] .colab-df-convert:hover {\n",
              "      background-color: #434B5C;\n",
              "      box-shadow: 0px 1px 3px 1px rgba(0, 0, 0, 0.15);\n",
              "      filter: drop-shadow(0px 1px 2px rgba(0, 0, 0, 0.3));\n",
              "      fill: #FFFFFF;\n",
              "    }\n",
              "  </style>\n",
              "\n",
              "      <script>\n",
              "        const buttonEl =\n",
              "          document.querySelector('#df-8ff6918e-f8a4-4ef4-95aa-6a6dce62f604 button.colab-df-convert');\n",
              "        buttonEl.style.display =\n",
              "          google.colab.kernel.accessAllowed ? 'block' : 'none';\n",
              "\n",
              "        async function convertToInteractive(key) {\n",
              "          const element = document.querySelector('#df-8ff6918e-f8a4-4ef4-95aa-6a6dce62f604');\n",
              "          const dataTable =\n",
              "            await google.colab.kernel.invokeFunction('convertToInteractive',\n",
              "                                                     [key], {});\n",
              "          if (!dataTable) return;\n",
              "\n",
              "          const docLinkHtml = 'Like what you see? Visit the ' +\n",
              "            '<a target=\"_blank\" href=https://colab.research.google.com/notebooks/data_table.ipynb>data table notebook</a>'\n",
              "            + ' to learn more about interactive tables.';\n",
              "          element.innerHTML = '';\n",
              "          dataTable['output_type'] = 'display_data';\n",
              "          await google.colab.output.renderOutput(dataTable, element);\n",
              "          const docLink = document.createElement('div');\n",
              "          docLink.innerHTML = docLinkHtml;\n",
              "          element.appendChild(docLink);\n",
              "        }\n",
              "      </script>\n",
              "    </div>\n",
              "  </div>\n"
            ]
          },
          "metadata": {},
          "execution_count": 44
        }
      ],
      "source": [
        "#NORMALISED DATA\n",
        "df_scaled = pd.DataFrame(x_scaled,columns=num.columns)\n",
        "df_scaled.head()"
      ]
    },
    {
      "cell_type": "code",
      "execution_count": 45,
      "metadata": {
        "colab": {
          "base_uri": "https://localhost:8080/",
          "height": 438
        },
        "id": "tX9-WwPzrryz",
        "outputId": "ce52d610-9b80-475b-b60a-b3a6adb0b807"
      },
      "outputs": [
        {
          "output_type": "execute_result",
          "data": {
            "text/plain": [
              "array([[<Axes: title={'center': 'Session_Activity_Count'}>,\n",
              "        <Axes: title={'center': 'No_Items_Added_InCart'}>,\n",
              "        <Axes: title={'center': 'No_Items_Removed_FromCart'}>,\n",
              "        <Axes: title={'center': 'No_Cart_Viewed'}>,\n",
              "        <Axes: title={'center': 'No_Checkout_Confirmed'}>],\n",
              "       [<Axes: title={'center': 'No_Checkout_Initiated '}>,\n",
              "        <Axes: title={'center': 'No_Cart_Items_Viewed'}>,\n",
              "        <Axes: title={'center': 'No_Customer_Login'}>,\n",
              "        <Axes: title={'center': 'No_Page_Viewed'}>, <Axes: >]],\n",
              "      dtype=object)"
            ]
          },
          "metadata": {},
          "execution_count": 45
        },
        {
          "output_type": "display_data",
          "data": {
            "text/plain": [
              "<Figure size 2000x600 with 10 Axes>"
            ],
            "image/png": "[encoded data removed]"
          },
          "metadata": {}
        }
      ],
      "source": [
        "#DATA VISUALIZATION FOR NORMALISED DATA\n",
        "df_scaled.hist(bins=15, figsize=(20, 6), layout=(2, 5))"
      ]
    },
    {
      "cell_type": "code",
      "execution_count": 46,
      "metadata": {
        "id": "QP28EjAwsZN4"
      },
      "outputs": [],
      "source": [
        "df_scaled[\"ID\"]=data.ID\n",
        "df_scaled.set_index('ID',inplace=True)"
      ]
    },
    {
      "cell_type": "code",
      "execution_count": 47,
      "metadata": {
        "id": "XwIp1L5pshuZ"
      },
      "outputs": [],
      "source": [
        "df_scaled.reset_index(inplace=True)"
      ]
    },
    {
      "cell_type": "code",
      "execution_count": 48,
      "metadata": {
        "colab": {
          "base_uri": "https://localhost:8080/",
          "height": 207
        },
        "id": "fSmoZpJOsqgc",
        "outputId": "74abf53f-e116-4775-b5a4-ff0819bf18dc"
      },
      "outputs": [
        {
          "output_type": "execute_result",
          "data": {
            "text/plain": [
              "             ID  Session_Activity_Count  No_Items_Added_InCart  \\\n",
              "0  Session_ID_0                0.009174               0.004444   \n",
              "1  Session_ID_1                0.087156               0.000000   \n",
              "2  Session_ID_2                0.018349               0.022222   \n",
              "\n",
              "   No_Items_Removed_FromCart  No_Cart_Viewed  No_Checkout_Confirmed  \\\n",
              "0                        0.0        0.000000               0.000000   \n",
              "1                        0.0        0.058824               0.000000   \n",
              "2                        0.0        0.000000               0.090909   \n",
              "\n",
              "   No_Checkout_Initiated   No_Cart_Items_Viewed  No_Customer_Login  \\\n",
              "0                0.000000              0.003906                0.0   \n",
              "1                0.000000              0.007812                0.0   \n",
              "2                0.071429              0.003906                0.0   \n",
              "\n",
              "   No_Page_Viewed Is_Product_Details_viewed Customer_Segment_Type  \\\n",
              "0        0.000000                       Yes                     0   \n",
              "1        0.057143                        No                     0   \n",
              "2        0.000000                        No                     1   \n",
              "\n",
              "  Cart_Abandoned  \n",
              "0              1  \n",
              "1              1  \n",
              "2              0  "
            ],
            "text/html": [
              "\n",
              "\n",
              "  <div id=\"df-08085971-d177-40cc-93d4-3a322c4fc618\">\n",
              "    <div class=\"colab-df-container\">\n",
              "      <div>\n",
              "<style scoped>\n",
              "    .dataframe tbody tr th:only-of-type {\n",
              "        vertical-align: middle;\n",
              "    }\n",
              "\n",
              "    .dataframe tbody tr th {\n",
              "        vertical-align: top;\n",
              "    }\n",
              "\n",
              "    .dataframe thead th {\n",
              "        text-align: right;\n",
              "    }\n",
              "</style>\n",
              "<table border=\"1\" class=\"dataframe\">\n",
              "  <thead>\n",
              "    <tr style=\"text-align: right;\">\n",
              "      <th></th>\n",
              "      <th>ID</th>\n",
              "      <th>Session_Activity_Count</th>\n",
              "      <th>No_Items_Added_InCart</th>\n",
              "      <th>No_Items_Removed_FromCart</th>\n",
              "      <th>No_Cart_Viewed</th>\n",
              "      <th>No_Checkout_Confirmed</th>\n",
              "      <th>No_Checkout_Initiated</th>\n",
              "      <th>No_Cart_Items_Viewed</th>\n",
              "      <th>No_Customer_Login</th>\n",
              "      <th>No_Page_Viewed</th>\n",
              "      <th>Is_Product_Details_viewed</th>\n",
              "      <th>Customer_Segment_Type</th>\n",
              "      <th>Cart_Abandoned</th>\n",
              "    </tr>\n",
              "  </thead>\n",
              "  <tbody>\n",
              "    <tr>\n",
              "      <th>0</th>\n",
              "      <td>Session_ID_0</td>\n",
              "      <td>0.009174</td>\n",
              "      <td>0.004444</td>\n",
              "      <td>0.0</td>\n",
              "      <td>0.000000</td>\n",
              "      <td>0.000000</td>\n",
              "      <td>0.000000</td>\n",
              "      <td>0.003906</td>\n",
              "      <td>0.0</td>\n",
              "      <td>0.000000</td>\n",
              "      <td>Yes</td>\n",
              "      <td>0</td>\n",
              "      <td>1</td>\n",
              "    </tr>\n",
              "    <tr>\n",
              "      <th>1</th>\n",
              "      <td>Session_ID_1</td>\n",
              "      <td>0.087156</td>\n",
              "      <td>0.000000</td>\n",
              "      <td>0.0</td>\n",
              "      <td>0.058824</td>\n",
              "      <td>0.000000</td>\n",
              "      <td>0.000000</td>\n",
              "      <td>0.007812</td>\n",
              "      <td>0.0</td>\n",
              "      <td>0.057143</td>\n",
              "      <td>No</td>\n",
              "      <td>0</td>\n",
              "      <td>1</td>\n",
              "    </tr>\n",
              "    <tr>\n",
              "      <th>2</th>\n",
              "      <td>Session_ID_2</td>\n",
              "      <td>0.018349</td>\n",
              "      <td>0.022222</td>\n",
              "      <td>0.0</td>\n",
              "      <td>0.000000</td>\n",
              "      <td>0.090909</td>\n",
              "      <td>0.071429</td>\n",
              "      <td>0.003906</td>\n",
              "      <td>0.0</td>\n",
              "      <td>0.000000</td>\n",
              "      <td>No</td>\n",
              "      <td>1</td>\n",
              "      <td>0</td>\n",
              "    </tr>\n",
              "  </tbody>\n",
              "</table>\n",
              "</div>\n",
              "      <button class=\"colab-df-convert\" onclick=\"convertToInteractive('df-08085971-d177-40cc-93d4-3a322c4fc618')\"\n",
              "              title=\"Convert this dataframe to an interactive table.\"\n",
              "              style=\"display:none;\">\n",
              "\n",
              "  <svg xmlns=\"http://www.w3.org/2000/svg\" height=\"24px\"viewBox=\"0 0 24 24\"\n",
              "       width=\"24px\">\n",
              "    <path d=\"M0 0h24v24H0V0z\" fill=\"none\"/>\n",
              "    <path d=\"M18.56 5.44l.94 2.06.94-2.06 2.06-.94-2.06-.94-.94-2.06-.94 2.06-2.06.94zm-11 1L8.5 8.5l.94-2.06 2.06-.94-2.06-.94L8.5 2.5l-.94 2.06-2.06.94zm10 10l.94 2.06.94-2.06 2.06-.94-2.06-.94-.94-2.06-.94 2.06-2.06.94z\"/><path d=\"M17.41 7.96l-1.37-1.37c-.4-.4-.92-.59-1.43-.59-.52 0-1.04.2-1.43.59L10.3 9.45l-7.72 7.72c-.78.78-.78 2.05 0 2.83L4 21.41c.39.39.9.59 1.41.59.51 0 1.02-.2 1.41-.59l7.78-7.78 2.81-2.81c.8-.78.8-2.07 0-2.86zM5.41 20L4 18.59l7.72-7.72 1.47 1.35L5.41 20z\"/>\n",
              "  </svg>\n",
              "      </button>\n",
              "\n",
              "\n",
              "\n",
              "    <div id=\"df-77968fd4-4ec4-4672-ba73-84b38148a406\">\n",
              "      <button class=\"colab-df-quickchart\" onclick=\"quickchart('df-77968fd4-4ec4-4672-ba73-84b38148a406')\"\n",
              "              title=\"Suggest charts.\"\n",
              "              style=\"display:none;\">\n",
              "\n",
              "<svg xmlns=\"http://www.w3.org/2000/svg\" height=\"24px\"viewBox=\"0 0 24 24\"\n",
              "     width=\"24px\">\n",
              "    <g>\n",
              "        <path d=\"M19 3H5c-1.1 0-2 .9-2 2v14c0 1.1.9 2 2 2h14c1.1 0 2-.9 2-2V5c0-1.1-.9-2-2-2zM9 17H7v-7h2v7zm4 0h-2V7h2v10zm4 0h-2v-4h2v4z\"/>\n",
              "    </g>\n",
              "</svg>\n",
              "      </button>\n",
              "    </div>\n",
              "\n",
              "<style>\n",
              "  .colab-df-quickchart {\n",
              "    background-color: #E8F0FE;\n",
              "    border: none;\n",
              "    border-radius: 50%;\n",
              "    cursor: pointer;\n",
              "    display: none;\n",
              "    fill: #1967D2;\n",
              "    height: 32px;\n",
              "    padding: 0 0 0 0;\n",
              "    width: 32px;\n",
              "  }\n",
              "\n",
              "  .colab-df-quickchart:hover {\n",
              "    background-color: #E2EBFA;\n",
              "    box-shadow: 0px 1px 2px rgba(60, 64, 67, 0.3), 0px 1px 3px 1px rgba(60, 64, 67, 0.15);\n",
              "    fill: #174EA6;\n",
              "  }\n",
              "\n",
              "  [theme=dark] .colab-df-quickchart {\n",
              "    background-color: #3B4455;\n",
              "    fill: #D2E3FC;\n",
              "  }\n",
              "\n",
              "  [theme=dark] .colab-df-quickchart:hover {\n",
              "    background-color: #434B5C;\n",
              "    box-shadow: 0px 1px 3px 1px rgba(0, 0, 0, 0.15);\n",
              "    filter: drop-shadow(0px 1px 2px rgba(0, 0, 0, 0.3));\n",
              "    fill: #FFFFFF;\n",
              "  }\n",
              "</style>\n",
              "\n",
              "    <script>\n",
              "      async function quickchart(key) {\n",
              "        const containerElement = document.querySelector('#' + key);\n",
              "        const charts = await google.colab.kernel.invokeFunction(\n",
              "            'suggestCharts', [key], {});\n",
              "      }\n",
              "    </script>\n",
              "\n",
              "      <script>\n",
              "\n",
              "function displayQuickchartButton(domScope) {\n",
              "  let quickchartButtonEl =\n",
              "    domScope.querySelector('#df-77968fd4-4ec4-4672-ba73-84b38148a406 button.colab-df-quickchart');\n",
              "  quickchartButtonEl.style.display =\n",
              "    google.colab.kernel.accessAllowed ? 'block' : 'none';\n",
              "}\n",
              "\n",
              "        displayQuickchartButton(document);\n",
              "      </script>\n",
              "      <style>\n",
              "    .colab-df-container {\n",
              "      display:flex;\n",
              "      flex-wrap:wrap;\n",
              "      gap: 12px;\n",
              "    }\n",
              "\n",
              "    .colab-df-convert {\n",
              "      background-color: #E8F0FE;\n",
              "      border: none;\n",
              "      border-radius: 50%;\n",
              "      cursor: pointer;\n",
              "      display: none;\n",
              "      fill: #1967D2;\n",
              "      height: 32px;\n",
              "      padding: 0 0 0 0;\n",
              "      width: 32px;\n",
              "    }\n",
              "\n",
              "    .colab-df-convert:hover {\n",
              "      background-color: #E2EBFA;\n",
              "      box-shadow: 0px 1px 2px rgba(60, 64, 67, 0.3), 0px 1px 3px 1px rgba(60, 64, 67, 0.15);\n",
              "      fill: #174EA6;\n",
              "    }\n",
              "\n",
              "    [theme=dark] .colab-df-convert {\n",
              "      background-color: #3B4455;\n",
              "      fill: #D2E3FC;\n",
              "    }\n",
              "\n",
              "    [theme=dark] .colab-df-convert:hover {\n",
              "      background-color: #434B5C;\n",
              "      box-shadow: 0px 1px 3px 1px rgba(0, 0, 0, 0.15);\n",
              "      filter: drop-shadow(0px 1px 2px rgba(0, 0, 0, 0.3));\n",
              "      fill: #FFFFFF;\n",
              "    }\n",
              "  </style>\n",
              "\n",
              "      <script>\n",
              "        const buttonEl =\n",
              "          document.querySelector('#df-08085971-d177-40cc-93d4-3a322c4fc618 button.colab-df-convert');\n",
              "        buttonEl.style.display =\n",
              "          google.colab.kernel.accessAllowed ? 'block' : 'none';\n",
              "\n",
              "        async function convertToInteractive(key) {\n",
              "          const element = document.querySelector('#df-08085971-d177-40cc-93d4-3a322c4fc618');\n",
              "          const dataTable =\n",
              "            await google.colab.kernel.invokeFunction('convertToInteractive',\n",
              "                                                     [key], {});\n",
              "          if (!dataTable) return;\n",
              "\n",
              "          const docLinkHtml = 'Like what you see? Visit the ' +\n",
              "            '<a target=\"_blank\" href=https://colab.research.google.com/notebooks/data_table.ipynb>data table notebook</a>'\n",
              "            + ' to learn more about interactive tables.';\n",
              "          element.innerHTML = '';\n",
              "          dataTable['output_type'] = 'display_data';\n",
              "          await google.colab.output.renderOutput(dataTable, element);\n",
              "          const docLink = document.createElement('div');\n",
              "          docLink.innerHTML = docLinkHtml;\n",
              "          element.appendChild(docLink);\n",
              "        }\n",
              "      </script>\n",
              "    </div>\n",
              "  </div>\n"
            ]
          },
          "metadata": {},
          "execution_count": 48
        }
      ],
      "source": [
        "df_final=df_scaled.join(cat)\n",
        "df_final.head(3)"
      ]
    },
    {
      "cell_type": "code",
      "execution_count": 49,
      "metadata": {
        "colab": {
          "base_uri": "https://localhost:8080/",
          "height": 207
        },
        "id": "cwxCGqtQvSLd",
        "outputId": "7cd018d6-d595-4e47-bec1-0ad8efb0d2d0"
      },
      "outputs": [
        {
          "output_type": "execute_result",
          "data": {
            "text/plain": [
              "             ID  Session_Activity_Count  No_Items_Added_InCart  \\\n",
              "0  Session_ID_0                0.009174               0.004444   \n",
              "1  Session_ID_1                0.087156               0.000000   \n",
              "2  Session_ID_2                0.018349               0.022222   \n",
              "\n",
              "   No_Items_Removed_FromCart  No_Cart_Viewed  No_Checkout_Confirmed  \\\n",
              "0                        0.0        0.000000               0.000000   \n",
              "1                        0.0        0.058824               0.000000   \n",
              "2                        0.0        0.000000               0.090909   \n",
              "\n",
              "   No_Checkout_Initiated   No_Cart_Items_Viewed  No_Customer_Login  \\\n",
              "0                0.000000              0.003906                0.0   \n",
              "1                0.000000              0.007812                0.0   \n",
              "2                0.071429              0.003906                0.0   \n",
              "\n",
              "   No_Page_Viewed  Is_Product_Details_viewed Customer_Segment_Type  \\\n",
              "0        0.000000                          1                     0   \n",
              "1        0.057143                          0                     0   \n",
              "2        0.000000                          0                     1   \n",
              "\n",
              "  Cart_Abandoned  \n",
              "0              1  \n",
              "1              1  \n",
              "2              0  "
            ],
            "text/html": [
              "\n",
              "\n",
              "  <div id=\"df-20dbed39-004c-4280-8bcf-1d77583510c9\">\n",
              "    <div class=\"colab-df-container\">\n",
              "      <div>\n",
              "<style scoped>\n",
              "    .dataframe tbody tr th:only-of-type {\n",
              "        vertical-align: middle;\n",
              "    }\n",
              "\n",
              "    .dataframe tbody tr th {\n",
              "        vertical-align: top;\n",
              "    }\n",
              "\n",
              "    .dataframe thead th {\n",
              "        text-align: right;\n",
              "    }\n",
              "</style>\n",
              "<table border=\"1\" class=\"dataframe\">\n",
              "  <thead>\n",
              "    <tr style=\"text-align: right;\">\n",
              "      <th></th>\n",
              "      <th>ID</th>\n",
              "      <th>Session_Activity_Count</th>\n",
              "      <th>No_Items_Added_InCart</th>\n",
              "      <th>No_Items_Removed_FromCart</th>\n",
              "      <th>No_Cart_Viewed</th>\n",
              "      <th>No_Checkout_Confirmed</th>\n",
              "      <th>No_Checkout_Initiated</th>\n",
              "      <th>No_Cart_Items_Viewed</th>\n",
              "      <th>No_Customer_Login</th>\n",
              "      <th>No_Page_Viewed</th>\n",
              "      <th>Is_Product_Details_viewed</th>\n",
              "      <th>Customer_Segment_Type</th>\n",
              "      <th>Cart_Abandoned</th>\n",
              "    </tr>\n",
              "  </thead>\n",
              "  <tbody>\n",
              "    <tr>\n",
              "      <th>0</th>\n",
              "      <td>Session_ID_0</td>\n",
              "      <td>0.009174</td>\n",
              "      <td>0.004444</td>\n",
              "      <td>0.0</td>\n",
              "      <td>0.000000</td>\n",
              "      <td>0.000000</td>\n",
              "      <td>0.000000</td>\n",
              "      <td>0.003906</td>\n",
              "      <td>0.0</td>\n",
              "      <td>0.000000</td>\n",
              "      <td>1</td>\n",
              "      <td>0</td>\n",
              "      <td>1</td>\n",
              "    </tr>\n",
              "    <tr>\n",
              "      <th>1</th>\n",
              "      <td>Session_ID_1</td>\n",
              "      <td>0.087156</td>\n",
              "      <td>0.000000</td>\n",
              "      <td>0.0</td>\n",
              "      <td>0.058824</td>\n",
              "      <td>0.000000</td>\n",
              "      <td>0.000000</td>\n",
              "      <td>0.007812</td>\n",
              "      <td>0.0</td>\n",
              "      <td>0.057143</td>\n",
              "      <td>0</td>\n",
              "      <td>0</td>\n",
              "      <td>1</td>\n",
              "    </tr>\n",
              "    <tr>\n",
              "      <th>2</th>\n",
              "      <td>Session_ID_2</td>\n",
              "      <td>0.018349</td>\n",
              "      <td>0.022222</td>\n",
              "      <td>0.0</td>\n",
              "      <td>0.000000</td>\n",
              "      <td>0.090909</td>\n",
              "      <td>0.071429</td>\n",
              "      <td>0.003906</td>\n",
              "      <td>0.0</td>\n",
              "      <td>0.000000</td>\n",
              "      <td>0</td>\n",
              "      <td>1</td>\n",
              "      <td>0</td>\n",
              "    </tr>\n",
              "  </tbody>\n",
              "</table>\n",
              "</div>\n",
              "      <button class=\"colab-df-convert\" onclick=\"convertToInteractive('df-20dbed39-004c-4280-8bcf-1d77583510c9')\"\n",
              "              title=\"Convert this dataframe to an interactive table.\"\n",
              "              style=\"display:none;\">\n",
              "\n",
              "  <svg xmlns=\"http://www.w3.org/2000/svg\" height=\"24px\"viewBox=\"0 0 24 24\"\n",
              "       width=\"24px\">\n",
              "    <path d=\"M0 0h24v24H0V0z\" fill=\"none\"/>\n",
              "    <path d=\"M18.56 5.44l.94 2.06.94-2.06 2.06-.94-2.06-.94-.94-2.06-.94 2.06-2.06.94zm-11 1L8.5 8.5l.94-2.06 2.06-.94-2.06-.94L8.5 2.5l-.94 2.06-2.06.94zm10 10l.94 2.06.94-2.06 2.06-.94-2.06-.94-.94-2.06-.94 2.06-2.06.94z\"/><path d=\"M17.41 7.96l-1.37-1.37c-.4-.4-.92-.59-1.43-.59-.52 0-1.04.2-1.43.59L10.3 9.45l-7.72 7.72c-.78.78-.78 2.05 0 2.83L4 21.41c.39.39.9.59 1.41.59.51 0 1.02-.2 1.41-.59l7.78-7.78 2.81-2.81c.8-.78.8-2.07 0-2.86zM5.41 20L4 18.59l7.72-7.72 1.47 1.35L5.41 20z\"/>\n",
              "  </svg>\n",
              "      </button>\n",
              "\n",
              "\n",
              "\n",
              "    <div id=\"df-b2f31ce9-d132-46d4-9005-434917a2c3bd\">\n",
              "      <button class=\"colab-df-quickchart\" onclick=\"quickchart('df-b2f31ce9-d132-46d4-9005-434917a2c3bd')\"\n",
              "              title=\"Suggest charts.\"\n",
              "              style=\"display:none;\">\n",
              "\n",
              "<svg xmlns=\"http://www.w3.org/2000/svg\" height=\"24px\"viewBox=\"0 0 24 24\"\n",
              "     width=\"24px\">\n",
              "    <g>\n",
              "        <path d=\"M19 3H5c-1.1 0-2 .9-2 2v14c0 1.1.9 2 2 2h14c1.1 0 2-.9 2-2V5c0-1.1-.9-2-2-2zM9 17H7v-7h2v7zm4 0h-2V7h2v10zm4 0h-2v-4h2v4z\"/>\n",
              "    </g>\n",
              "</svg>\n",
              "      </button>\n",
              "    </div>\n",
              "\n",
              "<style>\n",
              "  .colab-df-quickchart {\n",
              "    background-color: #E8F0FE;\n",
              "    border: none;\n",
              "    border-radius: 50%;\n",
              "    cursor: pointer;\n",
              "    display: none;\n",
              "    fill: #1967D2;\n",
              "    height: 32px;\n",
              "    padding: 0 0 0 0;\n",
              "    width: 32px;\n",
              "  }\n",
              "\n",
              "  .colab-df-quickchart:hover {\n",
              "    background-color: #E2EBFA;\n",
              "    box-shadow: 0px 1px 2px rgba(60, 64, 67, 0.3), 0px 1px 3px 1px rgba(60, 64, 67, 0.15);\n",
              "    fill: #174EA6;\n",
              "  }\n",
              "\n",
              "  [theme=dark] .colab-df-quickchart {\n",
              "    background-color: #3B4455;\n",
              "    fill: #D2E3FC;\n",
              "  }\n",
              "\n",
              "  [theme=dark] .colab-df-quickchart:hover {\n",
              "    background-color: #434B5C;\n",
              "    box-shadow: 0px 1px 3px 1px rgba(0, 0, 0, 0.15);\n",
              "    filter: drop-shadow(0px 1px 2px rgba(0, 0, 0, 0.3));\n",
              "    fill: #FFFFFF;\n",
              "  }\n",
              "</style>\n",
              "\n",
              "    <script>\n",
              "      async function quickchart(key) {\n",
              "        const containerElement = document.querySelector('#' + key);\n",
              "        const charts = await google.colab.kernel.invokeFunction(\n",
              "            'suggestCharts', [key], {});\n",
              "      }\n",
              "    </script>\n",
              "\n",
              "      <script>\n",
              "\n",
              "function displayQuickchartButton(domScope) {\n",
              "  let quickchartButtonEl =\n",
              "    domScope.querySelector('#df-b2f31ce9-d132-46d4-9005-434917a2c3bd button.colab-df-quickchart');\n",
              "  quickchartButtonEl.style.display =\n",
              "    google.colab.kernel.accessAllowed ? 'block' : 'none';\n",
              "}\n",
              "\n",
              "        displayQuickchartButton(document);\n",
              "      </script>\n",
              "      <style>\n",
              "    .colab-df-container {\n",
              "      display:flex;\n",
              "      flex-wrap:wrap;\n",
              "      gap: 12px;\n",
              "    }\n",
              "\n",
              "    .colab-df-convert {\n",
              "      background-color: #E8F0FE;\n",
              "      border: none;\n",
              "      border-radius: 50%;\n",
              "      cursor: pointer;\n",
              "      display: none;\n",
              "      fill: #1967D2;\n",
              "      height: 32px;\n",
              "      padding: 0 0 0 0;\n",
              "      width: 32px;\n",
              "    }\n",
              "\n",
              "    .colab-df-convert:hover {\n",
              "      background-color: #E2EBFA;\n",
              "      box-shadow: 0px 1px 2px rgba(60, 64, 67, 0.3), 0px 1px 3px 1px rgba(60, 64, 67, 0.15);\n",
              "      fill: #174EA6;\n",
              "    }\n",
              "\n",
              "    [theme=dark] .colab-df-convert {\n",
              "      background-color: #3B4455;\n",
              "      fill: #D2E3FC;\n",
              "    }\n",
              "\n",
              "    [theme=dark] .colab-df-convert:hover {\n",
              "      background-color: #434B5C;\n",
              "      box-shadow: 0px 1px 3px 1px rgba(0, 0, 0, 0.15);\n",
              "      filter: drop-shadow(0px 1px 2px rgba(0, 0, 0, 0.3));\n",
              "      fill: #FFFFFF;\n",
              "    }\n",
              "  </style>\n",
              "\n",
              "      <script>\n",
              "        const buttonEl =\n",
              "          document.querySelector('#df-20dbed39-004c-4280-8bcf-1d77583510c9 button.colab-df-convert');\n",
              "        buttonEl.style.display =\n",
              "          google.colab.kernel.accessAllowed ? 'block' : 'none';\n",
              "\n",
              "        async function convertToInteractive(key) {\n",
              "          const element = document.querySelector('#df-20dbed39-004c-4280-8bcf-1d77583510c9');\n",
              "          const dataTable =\n",
              "            await google.colab.kernel.invokeFunction('convertToInteractive',\n",
              "                                                     [key], {});\n",
              "          if (!dataTable) return;\n",
              "\n",
              "          const docLinkHtml = 'Like what you see? Visit the ' +\n",
              "            '<a target=\"_blank\" href=https://colab.research.google.com/notebooks/data_table.ipynb>data table notebook</a>'\n",
              "            + ' to learn more about interactive tables.';\n",
              "          element.innerHTML = '';\n",
              "          dataTable['output_type'] = 'display_data';\n",
              "          await google.colab.output.renderOutput(dataTable, element);\n",
              "          const docLink = document.createElement('div');\n",
              "          docLink.innerHTML = docLinkHtml;\n",
              "          element.appendChild(docLink);\n",
              "        }\n",
              "      </script>\n",
              "    </div>\n",
              "  </div>\n"
            ]
          },
          "metadata": {},
          "execution_count": 49
        }
      ],
      "source": [
        "df_final.Is_Product_Details_viewed.replace({\"Yes\":1,\"No\":0},inplace=True)\n",
        "df_final.head(3)"
      ]
    },
    {
      "cell_type": "code",
      "execution_count": 50,
      "metadata": {
        "colab": {
          "base_uri": "https://localhost:8080/"
        },
        "id": "-uIydnausvDE",
        "outputId": "34768a0e-0722-4df7-bc9d-34df0e81cbd2"
      },
      "outputs": [
        {
          "output_type": "execute_result",
          "data": {
            "text/plain": [
              "ID                             object\n",
              "Session_Activity_Count        float64\n",
              "No_Items_Added_InCart         float64\n",
              "No_Items_Removed_FromCart     float64\n",
              "No_Cart_Viewed                float64\n",
              "No_Checkout_Confirmed         float64\n",
              "No_Checkout_Initiated         float64\n",
              "No_Cart_Items_Viewed          float64\n",
              "No_Customer_Login             float64\n",
              "No_Page_Viewed                float64\n",
              "Is_Product_Details_viewed       int64\n",
              "Customer_Segment_Type        category\n",
              "Cart_Abandoned               category\n",
              "dtype: object"
            ]
          },
          "metadata": {},
          "execution_count": 50
        }
      ],
      "source": [
        "df_final.dtypes"
      ]
    },
    {
      "cell_type": "code",
      "execution_count": 51,
      "metadata": {
        "id": "3TENUitYswZ_"
      },
      "outputs": [],
      "source": [
        "df_final.Is_Product_Details_viewed=pd.Categorical(df_final.Is_Product_Details_viewed)"
      ]
    },
    {
      "cell_type": "markdown",
      "metadata": {
        "id": "X6j4zCVuxH5V"
      },
      "source": [
        "* FEATURE SELECTION"
      ]
    },
    {
      "cell_type": "markdown",
      "metadata": {
        "id": "bOwMvmrsxH5V"
      },
      "source": [
        "**USING RECURSIVE FEATURE ELIMINATION**"
      ]
    },
    {
      "cell_type": "code",
      "execution_count": 52,
      "metadata": {
        "colab": {
          "base_uri": "https://localhost:8080/"
        },
        "id": "RRbGOSXHxH5V",
        "outputId": "bc69a1ae-eba2-49c1-bba7-a7c9b3148650"
      },
      "outputs": [
        {
          "output_type": "execute_result",
          "data": {
            "text/plain": [
              "(4284, 11)"
            ]
          },
          "metadata": {},
          "execution_count": 52
        }
      ],
      "source": [
        "X=df_final.iloc[:,1:12]\n",
        "X.shape"
      ]
    },
    {
      "cell_type": "code",
      "source": [
        "y=df_final[\"Cart_Abandoned\"]\n",
        "y.name"
      ],
      "metadata": {
        "colab": {
          "base_uri": "https://localhost:8080/",
          "height": 36
        },
        "id": "nE76F5DIx3sE",
        "outputId": "69badd45-716a-45c9-f0ca-fac887972c85"
      },
      "execution_count": 53,
      "outputs": [
        {
          "output_type": "execute_result",
          "data": {
            "text/plain": [
              "'Cart_Abandoned'"
            ],
            "application/vnd.google.colaboratory.intrinsic+json": {
              "type": "string"
            }
          },
          "metadata": {},
          "execution_count": 53
        }
      ]
    },
    {
      "cell_type": "code",
      "source": [
        "lr = LogisticRegression()\n",
        "lr.fit(X,y)\n",
        "#stop the search when only the last feature is left\n",
        "rfe = RFE(lr, n_features_to_select=7, verbose = 3 )\n",
        "fit=rfe.fit(X,y)\n",
        "print(\"Num Features: %d\"% fit.n_features_)\n",
        "print(\"Selected Features: %s\"% fit.support_)\n",
        "print(\"Feature Ranking: %s\"% fit.ranking_)"
      ],
      "metadata": {
        "colab": {
          "base_uri": "https://localhost:8080/"
        },
        "id": "dcNl4DDux-wt",
        "outputId": "57d7a4eb-375a-4164-d251-b4db38bf0124"
      },
      "execution_count": 54,
      "outputs": [
        {
          "output_type": "stream",
          "name": "stdout",
          "text": [
            "Fitting estimator with 11 features.\n",
            "Fitting estimator with 10 features.\n",
            "Fitting estimator with 9 features.\n",
            "Fitting estimator with 8 features.\n",
            "Num Features: 7\n",
            "Selected Features: [ True  True False False  True  True False  True  True  True False]\n",
            "Feature Ranking: [1 1 4 2 1 1 5 1 1 1 3]\n"
          ]
        }
      ]
    },
    {
      "cell_type": "code",
      "source": [
        "l = [i for i,x in enumerate(list(fit.support_)) if x == True]"
      ],
      "metadata": {
        "id": "zpH4Yjr_yA1P"
      },
      "execution_count": 55,
      "outputs": []
    },
    {
      "cell_type": "code",
      "source": [
        "X.columns"
      ],
      "metadata": {
        "colab": {
          "base_uri": "https://localhost:8080/"
        },
        "id": "Lnx2T-dVyDEh",
        "outputId": "b2426c98-1884-4790-d230-33866e34b9e2"
      },
      "execution_count": 56,
      "outputs": [
        {
          "output_type": "execute_result",
          "data": {
            "text/plain": [
              "Index(['Session_Activity_Count', 'No_Items_Added_InCart',\n",
              "       'No_Items_Removed_FromCart', 'No_Cart_Viewed', 'No_Checkout_Confirmed',\n",
              "       'No_Checkout_Initiated ', 'No_Cart_Items_Viewed', 'No_Customer_Login',\n",
              "       'No_Page_Viewed', 'Is_Product_Details_viewed', 'Customer_Segment_Type'],\n",
              "      dtype='object')"
            ]
          },
          "metadata": {},
          "execution_count": 56
        }
      ]
    },
    {
      "cell_type": "code",
      "source": [
        "feature_selected = [X[X.columns[l[i]]].name for i,x in enumerate(l)]"
      ],
      "metadata": {
        "id": "aV8ns7_yyEn-"
      },
      "execution_count": 57,
      "outputs": []
    },
    {
      "cell_type": "code",
      "source": [
        "#SELECTED FEATURES\n",
        "feature_selected"
      ],
      "metadata": {
        "colab": {
          "base_uri": "https://localhost:8080/"
        },
        "id": "aK5JPxIiyGUt",
        "outputId": "ddfd1a1f-fd8f-4b9c-dffc-3c710fdcb095"
      },
      "execution_count": 58,
      "outputs": [
        {
          "output_type": "execute_result",
          "data": {
            "text/plain": [
              "['Session_Activity_Count',\n",
              " 'No_Items_Added_InCart',\n",
              " 'No_Checkout_Confirmed',\n",
              " 'No_Checkout_Initiated ',\n",
              " 'No_Customer_Login',\n",
              " 'No_Page_Viewed',\n",
              " 'Is_Product_Details_viewed']"
            ]
          },
          "metadata": {},
          "execution_count": 58
        }
      ]
    },
    {
      "cell_type": "markdown",
      "source": [
        "**2.By Random Forest Classifier**"
      ],
      "metadata": {
        "id": "FHMIBUsWyJs9"
      }
    },
    {
      "cell_type": "code",
      "source": [
        "# Create a random forest classifier\n",
        "clf = RandomForestClassifier(n_estimators=10000, random_state=0, n_jobs=-1)\n",
        "\n",
        "# Train the classifier\n",
        "clf.fit(X, y)\n",
        "feature_weightage_dict = dict()\n",
        "# Print the name and gini importance of each feature\n",
        "for feature in zip(X.columns, clf.feature_importances_):\n",
        "    feature_weightage_dict.update({feature[0]:feature[1]})"
      ],
      "metadata": {
        "id": "tcEBnPK1yK-T"
      },
      "execution_count": 59,
      "outputs": []
    },
    {
      "cell_type": "code",
      "source": [
        "feature_weightage_dict"
      ],
      "metadata": {
        "colab": {
          "base_uri": "https://localhost:8080/"
        },
        "id": "LuJSYEzFyN3C",
        "outputId": "0be85dc7-0150-4430-f28d-5c0f47d3d0e3"
      },
      "execution_count": 60,
      "outputs": [
        {
          "output_type": "execute_result",
          "data": {
            "text/plain": [
              "{'Session_Activity_Count': 0.05052857005529642,\n",
              " 'No_Items_Added_InCart': 0.025547984898027527,\n",
              " 'No_Items_Removed_FromCart': 0.010172300692196705,\n",
              " 'No_Cart_Viewed': 0.017810335296951977,\n",
              " 'No_Checkout_Confirmed': 0.7341868777064404,\n",
              " 'No_Checkout_Initiated ': 0.0441808380652188,\n",
              " 'No_Cart_Items_Viewed': 0.018703955749515146,\n",
              " 'No_Customer_Login': 0.05604221107820115,\n",
              " 'No_Page_Viewed': 0.027120211503535017,\n",
              " 'Is_Product_Details_viewed': 0.009764913736069736,\n",
              " 'Customer_Segment_Type': 0.0059418012185472185}"
            ]
          },
          "metadata": {},
          "execution_count": 60
        }
      ]
    },
    {
      "cell_type": "code",
      "source": [
        "sorted_feature_weightage_dict = sorted(feature_weightage_dict.items(), key=lambda kv: kv[1], reverse = True)"
      ],
      "metadata": {
        "id": "QFvQ4I7KyRGt"
      },
      "execution_count": 61,
      "outputs": []
    },
    {
      "cell_type": "code",
      "source": [
        "#FEATURES WEIGHTAGE IN DECREASING ORDER\n",
        "sorted_feature_weightage_dict"
      ],
      "metadata": {
        "colab": {
          "base_uri": "https://localhost:8080/"
        },
        "id": "CB0kt7QTyT7o",
        "outputId": "34392eaf-f49d-4030-ba63-61c93ae30e06"
      },
      "execution_count": 62,
      "outputs": [
        {
          "output_type": "execute_result",
          "data": {
            "text/plain": [
              "[('No_Checkout_Confirmed', 0.7341868777064404),\n",
              " ('No_Customer_Login', 0.05604221107820115),\n",
              " ('Session_Activity_Count', 0.05052857005529642),\n",
              " ('No_Checkout_Initiated ', 0.0441808380652188),\n",
              " ('No_Page_Viewed', 0.027120211503535017),\n",
              " ('No_Items_Added_InCart', 0.025547984898027527),\n",
              " ('No_Cart_Items_Viewed', 0.018703955749515146),\n",
              " ('No_Cart_Viewed', 0.017810335296951977),\n",
              " ('No_Items_Removed_FromCart', 0.010172300692196705),\n",
              " ('Is_Product_Details_viewed', 0.009764913736069736),\n",
              " ('Customer_Segment_Type', 0.0059418012185472185)]"
            ]
          },
          "metadata": {},
          "execution_count": 62
        }
      ]
    },
    {
      "cell_type": "code",
      "source": [
        "df_final.columns"
      ],
      "metadata": {
        "colab": {
          "base_uri": "https://localhost:8080/"
        },
        "id": "rtMaPkplyVuY",
        "outputId": "cd98d551-b806-4440-fb5d-09b0d2f680c0"
      },
      "execution_count": 63,
      "outputs": [
        {
          "output_type": "execute_result",
          "data": {
            "text/plain": [
              "Index(['ID', 'Session_Activity_Count', 'No_Items_Added_InCart',\n",
              "       'No_Items_Removed_FromCart', 'No_Cart_Viewed', 'No_Checkout_Confirmed',\n",
              "       'No_Checkout_Initiated ', 'No_Cart_Items_Viewed', 'No_Customer_Login',\n",
              "       'No_Page_Viewed', 'Is_Product_Details_viewed', 'Customer_Segment_Type',\n",
              "       'Cart_Abandoned'],\n",
              "      dtype='object')"
            ]
          },
          "metadata": {},
          "execution_count": 63
        }
      ]
    },
    {
      "cell_type": "markdown",
      "source": [
        "### From above two feature selection methods we can say No_Items_Added_InCart, No_Checkout_Confirmed, No_Checkout_Initiated, No_Customer_Login and No_Page_Viewed has higher importance features.So we consider that attributes only to train our model"
      ],
      "metadata": {
        "id": "44Ns1OYeybHc"
      }
    },
    {
      "cell_type": "markdown",
      "source": [
        "**TRAIN VALIDATION SPLIT**"
      ],
      "metadata": {
        "id": "crqaZ6qIygp3"
      }
    },
    {
      "cell_type": "markdown",
      "source": [],
      "metadata": {
        "id": "grNviBooypsn"
      }
    },
    {
      "cell_type": "code",
      "source": [
        "X = df_final.iloc[:,[5,6,8,9,2]]\n",
        "y = df_final.loc[:,[\"Cart_Abandoned\"]]\n",
        "X_train, X_test, y_train, y_test = train_test_split(X, y, test_size=0.40, random_state=0)"
      ],
      "metadata": {
        "id": "9vXuNN6hyZ1Q"
      },
      "execution_count": 64,
      "outputs": []
    },
    {
      "cell_type": "markdown",
      "source": [
        "[link text](https://)**OVERSAMPLING USING SMOTE**"
      ],
      "metadata": {
        "id": "I5qB6GeZyoqg"
      }
    },
    {
      "cell_type": "code",
      "source": [
        "sm = SMOTE(random_state=2, k_neighbors=5)\n",
        "X_train_resampled, y_train_resampled = sm.fit_resample(X_train, y_train)"
      ],
      "metadata": {
        "id": "u8n-2_Loyj27"
      },
      "execution_count": 66,
      "outputs": []
    },
    {
      "cell_type": "markdown",
      "source": [
        "**TRAIN-TEST SPLIT AFTER SMOTE**"
      ],
      "metadata": {
        "id": "FtEvkrX5ytfY"
      }
    },
    {
      "cell_type": "markdown",
      "source": [],
      "metadata": {
        "id": "s57jqv7jyz9Y"
      }
    },
    {
      "cell_type": "code",
      "source": [
        "# Splitting the resampled training data into new training and validation sets\n",
        "X_train_new, X_test_new, y_train_new, y_test_new = train_test_split(X_train_resampled, y_train_resampled, test_size=0.40, random_state=0)\n"
      ],
      "metadata": {
        "id": "0m043L-wywqL"
      },
      "execution_count": 67,
      "outputs": []
    },
    {
      "cell_type": "markdown",
      "source": [
        "## **MODEL BUILDING AND PREDICTION**"
      ],
      "metadata": {
        "id": "x1jwRQNayzVs"
      }
    },
    {
      "cell_type": "code",
      "source": [
        "# Train a logistic regression classifier\n",
        "lr1 = LogisticRegression()\n",
        "lr1.fit(X_train_new, y_train_new)\n",
        "y_pred_new = lr1.predict(X_test_new)  #For SMOTE validation samples\n",
        "y_pred=lr1.predict(X_test)"
      ],
      "metadata": {
        "colab": {
          "base_uri": "https://localhost:8080/"
        },
        "id": "FTZ7qvU5y1fj",
        "outputId": "17a36f31-1d59-451d-bd1c-a6791d596d4c"
      },
      "execution_count": 68,
      "outputs": [
        {
          "output_type": "stream",
          "name": "stderr",
          "text": [
            "/usr/local/lib/python3.10/dist-packages/sklearn/utils/validation.py:1143: DataConversionWarning: A column-vector y was passed when a 1d array was expected. Please change the shape of y to (n_samples, ), for example using ravel().\n",
            "  y = column_or_1d(y, warn=True)\n"
          ]
        }
      ]
    },
    {
      "cell_type": "markdown",
      "source": [],
      "metadata": {
        "id": "r07oukNEy97A"
      }
    },
    {
      "cell_type": "markdown",
      "source": [
        "## **EVALUATION USING PERMORMANCE MEASURES**"
      ],
      "metadata": {
        "id": "h1VgGUISy3uS"
      }
    },
    {
      "cell_type": "markdown",
      "source": [
        "**Evaluation of train-test split before SMOTE**"
      ],
      "metadata": {
        "id": "WW5oCnUNy7zd"
      }
    },
    {
      "cell_type": "code",
      "source": [
        "print(\" accuracy is %2.3f\" % accuracy_score(y_test, y_pred))\n",
        "print(\" Kappa is %f\" %cohen_kappa_score(y_test, y_pred))"
      ],
      "metadata": {
        "colab": {
          "base_uri": "https://localhost:8080/"
        },
        "id": "1-27mGsPzAdt",
        "outputId": "57720cd7-dbf1-4ff9-a0ac-8a16ccb03af0"
      },
      "execution_count": 69,
      "outputs": [
        {
          "output_type": "stream",
          "name": "stdout",
          "text": [
            " accuracy is 0.970\n",
            " Kappa is 0.887914\n"
          ]
        }
      ]
    },
    {
      "cell_type": "markdown",
      "source": [
        "**Evaluation of train-test split after SMOTE**"
      ],
      "metadata": {
        "id": "xgtE1BYLzE_d"
      }
    },
    {
      "cell_type": "code",
      "source": [
        "print(\" accuracy is %2.3f\" % accuracy_score(y_test_new, y_pred_new))\n",
        "print(\" Kappa is %f\" %cohen_kappa_score(y_test_new, y_pred_new))"
      ],
      "metadata": {
        "colab": {
          "base_uri": "https://localhost:8080/"
        },
        "id": "DELBw_cezH79",
        "outputId": "3e63267a-837b-4436-9fe5-448d69ef4085"
      },
      "execution_count": 70,
      "outputs": [
        {
          "output_type": "stream",
          "name": "stdout",
          "text": [
            " accuracy is 0.975\n",
            " Kappa is 0.949967\n"
          ]
        }
      ]
    },
    {
      "cell_type": "code",
      "source": [
        "pickle_out = open(\"lr1.pkl\", \"wb\")\n",
        "pickle.dump(lr1, pickle_out)\n",
        "pickle_out.close()"
      ],
      "metadata": {
        "id": "HNKVLuYSzJg2"
      },
      "execution_count": 71,
      "outputs": []
    },
    {
      "cell_type": "code",
      "source": [
        "# Take input from the user for relevant features\n",
        "user_input = {\n",
        "    \"No_Items_Added_InCart\": int(input(\"Enter the number of items added to the cart: \")),\n",
        "    \"No_Checkout_Confirmed\": int(input(\"Enter the number of checkouts confirmed: \")),\n",
        "    \"No_Checkout_Initiated\": int(input(\"Enter the number of checkout initiated (successful and unsuccessful): \")),\n",
        "    \"No_Customer_Login\": int(input(\"Enter the number of customer logins: \")),\n",
        "    \"No_Page_Viewed\": int(input(\"Enter the number of pages viewed by the customer: \"))\n",
        "}\n",
        "\n",
        "# Create a DataFrame with the user input\n",
        "user_input_df = pd.DataFrame([user_input])\n",
        "\n",
        "# Extract relevant features for scaling\n",
        "user_input_features = user_input_df[[\"No_Items_Added_InCart\", \"No_Checkout_Confirmed\", \"No_Checkout_Initiated\", \"No_Customer_Login\", \"No_Page_Viewed\"]]\n",
        "\n",
        "# Create a new MinMaxScaler for the user input and fit it on the relevant features\n",
        "user_input_scaler = MinMaxScaler()\n",
        "user_input_scaled = user_input_scaler.fit_transform(user_input_features)\n",
        "\n",
        "# Use the model to predict cart abandonment\n",
        "predicted_abandonment = lr1.predict(user_input_scaled)\n",
        "\n",
        "# Convert the prediction to human-readable format\n",
        "prediction_label = \"Abandoned\" if predicted_abandonment[0] == 1 else \"Not Abandoned\"\n",
        "\n",
        "# Display the prediction\n",
        "print(\"Prediction: The customer is likely to\", prediction_label, \"the cart.\")\n"
      ],
      "metadata": {
        "colab": {
          "base_uri": "https://localhost:8080/"
        },
        "id": "xaMTek3szLtA",
        "outputId": "b483b75f-7e8d-4660-89f7-28c763adff53"
      },
      "execution_count": 72,
      "outputs": [
        {
          "output_type": "stream",
          "name": "stdout",
          "text": [
            "Enter the number of items added to the cart: 4\n",
            "Enter the number of checkouts confirmed: 5\n",
            "Enter the number of checkout initiated (successful and unsuccessful): 2\n",
            "Enter the number of customer logins: 2\n",
            "Enter the number of pages viewed by the customer: 4\n",
            "Prediction: The customer is likely to Abandoned the cart.\n"
          ]
        },
        {
          "output_type": "stream",
          "name": "stderr",
          "text": [
            "/usr/local/lib/python3.10/dist-packages/sklearn/base.py:439: UserWarning: X does not have valid feature names, but LogisticRegression was fitted with feature names\n",
            "  warnings.warn(\n"
          ]
        }
      ]
    },
    {
      "cell_type": "markdown",
      "source": [
        "## **CONCLUSION**"
      ],
      "metadata": {
        "id": "iKidYi1Kzh74"
      }
    },
    {
      "cell_type": "markdown",
      "source": [
        "### By using this analysis we can predict whether a customer will do abandonment or not in the future. So that we can able to give them some offers so that they able to complete the checkout successfully."
      ],
      "metadata": {
        "id": "04ZVrV4dzj88"
      }
    }
  ],
  "metadata": {
    "colab": {
      "provenance": []
    },
    "kernelspec": {
      "display_name": "Python 3",
      "name": "python3"
    },
    "language_info": {
      "name": "python",
      "version": "3.10.8"
    }
  },
  "nbformat": 4,
  "nbformat_minor": 0
}